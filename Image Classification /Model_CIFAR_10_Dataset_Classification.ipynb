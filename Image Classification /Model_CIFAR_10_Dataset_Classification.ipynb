{
  "nbformat": 4,
  "nbformat_minor": 0,
  "metadata": {
    "colab": {
      "name": "Model_CIFAR-10_Dataset_Classification.ipynb",
      "provenance": [],
      "collapsed_sections": [],
      "authorship_tag": "ABX9TyPSkR9miAOgW9Ybd3m/k63J",
      "include_colab_link": true
    },
    "kernelspec": {
      "name": "python3",
      "display_name": "Python 3"
    },
    "accelerator": "GPU"
  },
  "cells": [
    {
      "cell_type": "markdown",
      "metadata": {
        "id": "view-in-github",
        "colab_type": "text"
      },
      "source": [
        "<a href=\"https://colab.research.google.com/github/harshp777/Machine-learning/blob/master/Image%20Classification%20/Model_CIFAR_10_Dataset_Classification.ipynb\" target=\"_parent\"><img src=\"https://colab.research.google.com/assets/colab-badge.svg\" alt=\"Open In Colab\"/></a>"
      ]
    },
    {
      "cell_type": "markdown",
      "metadata": {
        "id": "aIvflsa_O_yh",
        "colab_type": "text"
      },
      "source": [
        "# Image Classification"
      ]
    },
    {
      "cell_type": "code",
      "metadata": {
        "id": "QZcV0b10TOOG",
        "colab_type": "code",
        "outputId": "2bfdf0fc-d71a-445f-fd30-47f1e239c2fb",
        "colab": {
          "base_uri": "https://localhost:8080/",
          "height": 34
        }
      },
      "source": [
        "%tensorflow_version 1.x"
      ],
      "execution_count": 1,
      "outputs": [
        {
          "output_type": "stream",
          "text": [
            "TensorFlow 1.x selected.\n"
          ],
          "name": "stdout"
        }
      ]
    },
    {
      "cell_type": "code",
      "metadata": {
        "id": "d1EcqiN0PKj7",
        "colab_type": "code",
        "colab": {
          "base_uri": "https://localhost:8080/",
          "height": 34
        },
        "outputId": "46ed17c3-6b49-43bc-92d5-8adb763f0257"
      },
      "source": [
        "from keras.models import Sequential\n",
        "from keras.layers import Dense\n",
        "from keras.layers import Dropout\n",
        "from keras.layers import Flatten\n",
        "from keras.layers import Conv2D, MaxPooling2D\n",
        "from keras.layers import BatchNormalization\n",
        "from keras.constraints import maxnorm\n",
        "from keras.optimizers import SGD\n",
        "from keras.utils import np_utils\n",
        "import matplotlib.pyplot as plt\n",
        "from PIL import Image\n",
        "import numpy as np\n"
      ],
      "execution_count": 2,
      "outputs": [
        {
          "output_type": "stream",
          "text": [
            "Using TensorFlow backend.\n"
          ],
          "name": "stderr"
        }
      ]
    },
    {
      "cell_type": "markdown",
      "metadata": {
        "id": "s-R2BTmxiAK6",
        "colab_type": "text"
      },
      "source": [
        "These are some configuration parameters and hyperparameters."
      ]
    },
    {
      "cell_type": "code",
      "metadata": {
        "id": "Nv2MuSzgiEcC",
        "colab_type": "code",
        "colab": {}
      },
      "source": [
        "# The number of training samples per batch. 128 is a reasonable number.\n",
        "batch_size = 64\n",
        "\n",
        "# epochs is the number of times the model is trained with the data set, more can be better, up to a point\n",
        "epochs = 200\n",
        "\n",
        "# dropout is a common regularization hyperperameter. It helps to avoid overfitting or memorizing the input.\n",
        "dropout = 0.5"
      ],
      "execution_count": 0,
      "outputs": []
    },
    {
      "cell_type": "markdown",
      "metadata": {
        "id": "k2YVcj-ITZMu",
        "colab_type": "text"
      },
      "source": [
        " Load the dataset  CIFAR-10 from keras datasets module "
      ]
    },
    {
      "cell_type": "code",
      "metadata": {
        "id": "0SRJdrpMTmdU",
        "colab_type": "code",
        "outputId": "8f7f3f68-be20-484c-9b82-e43bdc841495",
        "colab": {
          "base_uri": "https://localhost:8080/",
          "height": 51
        }
      },
      "source": [
        "from keras.datasets import cifar10\n",
        "(train_X,train_Y),(test_X,test_Y)=cifar10.load_data()\n"
      ],
      "execution_count": 4,
      "outputs": [
        {
          "output_type": "stream",
          "text": [
            "Downloading data from https://www.cs.toronto.edu/~kriz/cifar-10-python.tar.gz\n",
            "170500096/170498071 [==============================] - 6s 0us/step\n"
          ],
          "name": "stdout"
        }
      ]
    },
    {
      "cell_type": "code",
      "metadata": {
        "id": "BGy-JYadSsx9",
        "colab_type": "code",
        "colab": {
          "base_uri": "https://localhost:8080/",
          "height": 85
        },
        "outputId": "0ab62383-335b-4526-fd73-1a69ccfc34eb"
      },
      "source": [
        "#Print the data type of x_train\n",
        "print(type(train_X))\n",
        "#Print the data type of y_train\n",
        "print(type(train_Y))\n",
        "#Print the data type of x_test\n",
        "print(type(test_X))\n",
        "#Print the data type of y_test\n",
        "print(type(test_Y))"
      ],
      "execution_count": 6,
      "outputs": [
        {
          "output_type": "stream",
          "text": [
            "<class 'numpy.ndarray'>\n",
            "<class 'numpy.ndarray'>\n",
            "<class 'numpy.ndarray'>\n",
            "<class 'numpy.ndarray'>\n"
          ],
          "name": "stdout"
        }
      ]
    },
    {
      "cell_type": "code",
      "metadata": {
        "id": "PjkRLNTZTZJG",
        "colab_type": "code",
        "colab": {
          "base_uri": "https://localhost:8080/",
          "height": 85
        },
        "outputId": "3a67d855-3770-4281-82e7-eed12320e0e6"
      },
      "source": [
        "print(train_X.shape)\n",
        "print(train_Y.shape)\n",
        "print(test_X.shape)\n",
        "print(test_Y.shape)"
      ],
      "execution_count": 11,
      "outputs": [
        {
          "output_type": "stream",
          "text": [
            "(50000, 32, 32, 3)\n",
            "(50000, 1)\n",
            "(10000, 32, 32, 3)\n",
            "(10000, 1)\n"
          ],
          "name": "stdout"
        }
      ]
    },
    {
      "cell_type": "code",
      "metadata": {
        "id": "7KPbj5TjUnL7",
        "colab_type": "code",
        "colab": {
          "base_uri": "https://localhost:8080/",
          "height": 850
        },
        "outputId": "d537ca36-4e7f-4ebe-9b28-d2cbfed8b866"
      },
      "source": [
        "index = 0\n",
        "train_X[index]"
      ],
      "execution_count": 12,
      "outputs": [
        {
          "output_type": "execute_result",
          "data": {
            "text/plain": [
              "array([[[ 59,  62,  63],\n",
              "        [ 43,  46,  45],\n",
              "        [ 50,  48,  43],\n",
              "        ...,\n",
              "        [158, 132, 108],\n",
              "        [152, 125, 102],\n",
              "        [148, 124, 103]],\n",
              "\n",
              "       [[ 16,  20,  20],\n",
              "        [  0,   0,   0],\n",
              "        [ 18,   8,   0],\n",
              "        ...,\n",
              "        [123,  88,  55],\n",
              "        [119,  83,  50],\n",
              "        [122,  87,  57]],\n",
              "\n",
              "       [[ 25,  24,  21],\n",
              "        [ 16,   7,   0],\n",
              "        [ 49,  27,   8],\n",
              "        ...,\n",
              "        [118,  84,  50],\n",
              "        [120,  84,  50],\n",
              "        [109,  73,  42]],\n",
              "\n",
              "       ...,\n",
              "\n",
              "       [[208, 170,  96],\n",
              "        [201, 153,  34],\n",
              "        [198, 161,  26],\n",
              "        ...,\n",
              "        [160, 133,  70],\n",
              "        [ 56,  31,   7],\n",
              "        [ 53,  34,  20]],\n",
              "\n",
              "       [[180, 139,  96],\n",
              "        [173, 123,  42],\n",
              "        [186, 144,  30],\n",
              "        ...,\n",
              "        [184, 148,  94],\n",
              "        [ 97,  62,  34],\n",
              "        [ 83,  53,  34]],\n",
              "\n",
              "       [[177, 144, 116],\n",
              "        [168, 129,  94],\n",
              "        [179, 142,  87],\n",
              "        ...,\n",
              "        [216, 184, 140],\n",
              "        [151, 118,  84],\n",
              "        [123,  92,  72]]], dtype=uint8)"
            ]
          },
          "metadata": {
            "tags": []
          },
          "execution_count": 12
        }
      ]
    },
    {
      "cell_type": "code",
      "metadata": {
        "id": "uJ-draGaTvod",
        "colab_type": "code",
        "outputId": "7641e47d-0337-4acb-bc0f-85a35d4f8306",
        "colab": {
          "base_uri": "https://localhost:8080/",
          "height": 532
        }
      },
      "source": [
        "n=6\n",
        "plt.figure(figsize=(20,10))\n",
        "for i in range(n):\n",
        "  plt.subplot(n,1,i+1)\n",
        "  plt.imshow(train_X[i])\n",
        "  plt.title('Label: %d' % test_Y[i])\n",
        "  plt.show()"
      ],
      "execution_count": 13,
      "outputs": [
        {
          "output_type": "display_data",
          "data": {
            "image/png": "[encoded data removed]",
            "text/plain": [
              "<Figure size 1440x720 with 1 Axes>"
            ]
          },
          "metadata": {
            "tags": [],
            "needs_background": "light"
          }
        },
        {
          "output_type": "display_data",
          "data": {
            "image/png": "[encoded data removed]",
            "text/plain": [
              "<Figure size 432x288 with 1 Axes>"
            ]
          },
          "metadata": {
            "tags": [],
            "needs_background": "light"
          }
        },
        {
          "output_type": "display_data",
          "data": {
            "image/png": "[encoded data removed]",
            "text/plain": [
              "<Figure size 432x288 with 1 Axes>"
            ]
          },
          "metadata": {
            "tags": [],
            "needs_background": "light"
          }
        },
        {
          "output_type": "display_data",
          "data": {
            "image/png": "[encoded data removed]",
            "text/plain": [
              "<Figure size 432x288 with 1 Axes>"
            ]
          },
          "metadata": {
            "tags": [],
            "needs_background": "light"
          }
        },
        {
          "output_type": "display_data",
          "data": {
            "image/png": "[encoded data removed]",
            "text/plain": [
              "<Figure size 432x288 with 1 Axes>"
            ]
          },
          "metadata": {
            "tags": [],
            "needs_background": "light"
          }
        },
        {
          "output_type": "display_data",
          "data": {
            "image/png": "[encoded data removed]",
            "text/plain": [
              "<Figure size 432x288 with 1 Axes>"
            ]
          },
          "metadata": {
            "tags": [],
            "needs_background": "light"
          }
        }
      ]
    },
    {
      "cell_type": "markdown",
      "metadata": {
        "id": "PY2IGpf8V2RT",
        "colab_type": "text"
      },
      "source": [
        "Convert the pixel values of the dataset to float type and then normalize the dataset."
      ]
    },
    {
      "cell_type": "code",
      "metadata": {
        "id": "UPkQedPBUDE9",
        "colab_type": "code",
        "colab": {}
      },
      "source": [
        "train_x=train_X.astype('float32')\n",
        "test_X=test_X.astype('float32')\n",
        " \n",
        "train_X=train_X/255.0\n",
        "test_X=test_X/255.0\n"
      ],
      "execution_count": 0,
      "outputs": []
    },
    {
      "cell_type": "code",
      "metadata": {
        "id": "MlW750E1VbZK",
        "colab_type": "code",
        "colab": {
          "base_uri": "https://localhost:8080/",
          "height": 1000
        },
        "outputId": "201d1dd6-5bb8-47a3-c292-e903544ed5e5"
      },
      "source": [
        "print(train_X)"
      ],
      "execution_count": 17,
      "outputs": [
        {
          "output_type": "stream",
          "text": [
            "[[[[0.23137255 0.24313725 0.24705882]\n",
            "   [0.16862745 0.18039216 0.17647059]\n",
            "   [0.19607843 0.18823529 0.16862745]\n",
            "   ...\n",
            "   [0.61960784 0.51764706 0.42352941]\n",
            "   [0.59607843 0.49019608 0.4       ]\n",
            "   [0.58039216 0.48627451 0.40392157]]\n",
            "\n",
            "  [[0.0627451  0.07843137 0.07843137]\n",
            "   [0.         0.         0.        ]\n",
            "   [0.07058824 0.03137255 0.        ]\n",
            "   ...\n",
            "   [0.48235294 0.34509804 0.21568627]\n",
            "   [0.46666667 0.3254902  0.19607843]\n",
            "   [0.47843137 0.34117647 0.22352941]]\n",
            "\n",
            "  [[0.09803922 0.09411765 0.08235294]\n",
            "   [0.0627451  0.02745098 0.        ]\n",
            "   [0.19215686 0.10588235 0.03137255]\n",
            "   ...\n",
            "   [0.4627451  0.32941176 0.19607843]\n",
            "   [0.47058824 0.32941176 0.19607843]\n",
            "   [0.42745098 0.28627451 0.16470588]]\n",
            "\n",
            "  ...\n",
            "\n",
            "  [[0.81568627 0.66666667 0.37647059]\n",
            "   [0.78823529 0.6        0.13333333]\n",
            "   [0.77647059 0.63137255 0.10196078]\n",
            "   ...\n",
            "   [0.62745098 0.52156863 0.2745098 ]\n",
            "   [0.21960784 0.12156863 0.02745098]\n",
            "   [0.20784314 0.13333333 0.07843137]]\n",
            "\n",
            "  [[0.70588235 0.54509804 0.37647059]\n",
            "   [0.67843137 0.48235294 0.16470588]\n",
            "   [0.72941176 0.56470588 0.11764706]\n",
            "   ...\n",
            "   [0.72156863 0.58039216 0.36862745]\n",
            "   [0.38039216 0.24313725 0.13333333]\n",
            "   [0.3254902  0.20784314 0.13333333]]\n",
            "\n",
            "  [[0.69411765 0.56470588 0.45490196]\n",
            "   [0.65882353 0.50588235 0.36862745]\n",
            "   [0.70196078 0.55686275 0.34117647]\n",
            "   ...\n",
            "   [0.84705882 0.72156863 0.54901961]\n",
            "   [0.59215686 0.4627451  0.32941176]\n",
            "   [0.48235294 0.36078431 0.28235294]]]\n",
            "\n",
            "\n",
            " [[[0.60392157 0.69411765 0.73333333]\n",
            "   [0.49411765 0.5372549  0.53333333]\n",
            "   [0.41176471 0.40784314 0.37254902]\n",
            "   ...\n",
            "   [0.35686275 0.37254902 0.27843137]\n",
            "   [0.34117647 0.35294118 0.27843137]\n",
            "   [0.30980392 0.31764706 0.2745098 ]]\n",
            "\n",
            "  [[0.54901961 0.62745098 0.6627451 ]\n",
            "   [0.56862745 0.6        0.60392157]\n",
            "   [0.49019608 0.49019608 0.4627451 ]\n",
            "   ...\n",
            "   [0.37647059 0.38823529 0.30588235]\n",
            "   [0.30196078 0.31372549 0.24313725]\n",
            "   [0.27843137 0.28627451 0.23921569]]\n",
            "\n",
            "  [[0.54901961 0.60784314 0.64313725]\n",
            "   [0.54509804 0.57254902 0.58431373]\n",
            "   [0.45098039 0.45098039 0.43921569]\n",
            "   ...\n",
            "   [0.30980392 0.32156863 0.25098039]\n",
            "   [0.26666667 0.2745098  0.21568627]\n",
            "   [0.2627451  0.27058824 0.21568627]]\n",
            "\n",
            "  ...\n",
            "\n",
            "  [[0.68627451 0.65490196 0.65098039]\n",
            "   [0.61176471 0.60392157 0.62745098]\n",
            "   [0.60392157 0.62745098 0.66666667]\n",
            "   ...\n",
            "   [0.16470588 0.13333333 0.14117647]\n",
            "   [0.23921569 0.20784314 0.22352941]\n",
            "   [0.36470588 0.3254902  0.35686275]]\n",
            "\n",
            "  [[0.64705882 0.60392157 0.50196078]\n",
            "   [0.61176471 0.59607843 0.50980392]\n",
            "   [0.62352941 0.63137255 0.55686275]\n",
            "   ...\n",
            "   [0.40392157 0.36470588 0.37647059]\n",
            "   [0.48235294 0.44705882 0.47058824]\n",
            "   [0.51372549 0.4745098  0.51372549]]\n",
            "\n",
            "  [[0.63921569 0.58039216 0.47058824]\n",
            "   [0.61960784 0.58039216 0.47843137]\n",
            "   [0.63921569 0.61176471 0.52156863]\n",
            "   ...\n",
            "   [0.56078431 0.52156863 0.54509804]\n",
            "   [0.56078431 0.5254902  0.55686275]\n",
            "   [0.56078431 0.52156863 0.56470588]]]\n",
            "\n",
            "\n",
            " [[[1.         1.         1.        ]\n",
            "   [0.99215686 0.99215686 0.99215686]\n",
            "   [0.99215686 0.99215686 0.99215686]\n",
            "   ...\n",
            "   [0.99215686 0.99215686 0.99215686]\n",
            "   [0.99215686 0.99215686 0.99215686]\n",
            "   [0.99215686 0.99215686 0.99215686]]\n",
            "\n",
            "  [[1.         1.         1.        ]\n",
            "   [1.         1.         1.        ]\n",
            "   [1.         1.         1.        ]\n",
            "   ...\n",
            "   [1.         1.         1.        ]\n",
            "   [1.         1.         1.        ]\n",
            "   [1.         1.         1.        ]]\n",
            "\n",
            "  [[1.         1.         1.        ]\n",
            "   [0.99607843 0.99607843 0.99607843]\n",
            "   [0.99607843 0.99607843 0.99607843]\n",
            "   ...\n",
            "   [0.99607843 0.99607843 0.99607843]\n",
            "   [0.99607843 0.99607843 0.99607843]\n",
            "   [0.99607843 0.99607843 0.99607843]]\n",
            "\n",
            "  ...\n",
            "\n",
            "  [[0.44313725 0.47058824 0.43921569]\n",
            "   [0.43529412 0.4627451  0.43529412]\n",
            "   [0.41176471 0.43921569 0.41568627]\n",
            "   ...\n",
            "   [0.28235294 0.31764706 0.31372549]\n",
            "   [0.28235294 0.31372549 0.30980392]\n",
            "   [0.28235294 0.31372549 0.30980392]]\n",
            "\n",
            "  [[0.43529412 0.4627451  0.43137255]\n",
            "   [0.40784314 0.43529412 0.40784314]\n",
            "   [0.38823529 0.41568627 0.38431373]\n",
            "   ...\n",
            "   [0.26666667 0.29411765 0.28627451]\n",
            "   [0.2745098  0.29803922 0.29411765]\n",
            "   [0.30588235 0.32941176 0.32156863]]\n",
            "\n",
            "  [[0.41568627 0.44313725 0.41176471]\n",
            "   [0.38823529 0.41568627 0.38431373]\n",
            "   [0.37254902 0.4        0.36862745]\n",
            "   ...\n",
            "   [0.30588235 0.33333333 0.3254902 ]\n",
            "   [0.30980392 0.33333333 0.3254902 ]\n",
            "   [0.31372549 0.3372549  0.32941176]]]\n",
            "\n",
            "\n",
            " ...\n",
            "\n",
            "\n",
            " [[[0.1372549  0.69803922 0.92156863]\n",
            "   [0.15686275 0.69019608 0.9372549 ]\n",
            "   [0.16470588 0.69019608 0.94509804]\n",
            "   ...\n",
            "   [0.38823529 0.69411765 0.85882353]\n",
            "   [0.30980392 0.57647059 0.77254902]\n",
            "   [0.34901961 0.58039216 0.74117647]]\n",
            "\n",
            "  [[0.22352941 0.71372549 0.91764706]\n",
            "   [0.17254902 0.72156863 0.98039216]\n",
            "   [0.19607843 0.71764706 0.94117647]\n",
            "   ...\n",
            "   [0.61176471 0.71372549 0.78431373]\n",
            "   [0.55294118 0.69411765 0.80784314]\n",
            "   [0.45490196 0.58431373 0.68627451]]\n",
            "\n",
            "  [[0.38431373 0.77254902 0.92941176]\n",
            "   [0.25098039 0.74117647 0.98823529]\n",
            "   [0.27058824 0.75294118 0.96078431]\n",
            "   ...\n",
            "   [0.7372549  0.76470588 0.80784314]\n",
            "   [0.46666667 0.52941176 0.57647059]\n",
            "   [0.23921569 0.30980392 0.35294118]]\n",
            "\n",
            "  ...\n",
            "\n",
            "  [[0.28627451 0.30980392 0.30196078]\n",
            "   [0.20784314 0.24705882 0.26666667]\n",
            "   [0.21176471 0.26666667 0.31372549]\n",
            "   ...\n",
            "   [0.06666667 0.15686275 0.25098039]\n",
            "   [0.08235294 0.14117647 0.2       ]\n",
            "   [0.12941176 0.18823529 0.19215686]]\n",
            "\n",
            "  [[0.23921569 0.26666667 0.29411765]\n",
            "   [0.21568627 0.2745098  0.3372549 ]\n",
            "   [0.22352941 0.30980392 0.40392157]\n",
            "   ...\n",
            "   [0.09411765 0.18823529 0.28235294]\n",
            "   [0.06666667 0.1372549  0.20784314]\n",
            "   [0.02745098 0.09019608 0.1254902 ]]\n",
            "\n",
            "  [[0.17254902 0.21960784 0.28627451]\n",
            "   [0.18039216 0.25882353 0.34509804]\n",
            "   [0.19215686 0.30196078 0.41176471]\n",
            "   ...\n",
            "   [0.10588235 0.20392157 0.30196078]\n",
            "   [0.08235294 0.16862745 0.25882353]\n",
            "   [0.04705882 0.12156863 0.19607843]]]\n",
            "\n",
            "\n",
            " [[[0.74117647 0.82745098 0.94117647]\n",
            "   [0.72941176 0.81568627 0.9254902 ]\n",
            "   [0.7254902  0.81176471 0.92156863]\n",
            "   ...\n",
            "   [0.68627451 0.76470588 0.87843137]\n",
            "   [0.6745098  0.76078431 0.87058824]\n",
            "   [0.6627451  0.76078431 0.8627451 ]]\n",
            "\n",
            "  [[0.76078431 0.82352941 0.9372549 ]\n",
            "   [0.74901961 0.81176471 0.9254902 ]\n",
            "   [0.74509804 0.80784314 0.92156863]\n",
            "   ...\n",
            "   [0.67843137 0.75294118 0.8627451 ]\n",
            "   [0.67058824 0.74901961 0.85490196]\n",
            "   [0.65490196 0.74509804 0.84705882]]\n",
            "\n",
            "  [[0.81568627 0.85882353 0.95686275]\n",
            "   [0.80392157 0.84705882 0.94117647]\n",
            "   [0.8        0.84313725 0.9372549 ]\n",
            "   ...\n",
            "   [0.68627451 0.74901961 0.85098039]\n",
            "   [0.6745098  0.74509804 0.84705882]\n",
            "   [0.6627451  0.74901961 0.84313725]]\n",
            "\n",
            "  ...\n",
            "\n",
            "  [[0.81176471 0.78039216 0.70980392]\n",
            "   [0.79607843 0.76470588 0.68627451]\n",
            "   [0.79607843 0.76862745 0.67843137]\n",
            "   ...\n",
            "   [0.52941176 0.51764706 0.49803922]\n",
            "   [0.63529412 0.61960784 0.58823529]\n",
            "   [0.65882353 0.63921569 0.59215686]]\n",
            "\n",
            "  [[0.77647059 0.74509804 0.66666667]\n",
            "   [0.74117647 0.70980392 0.62352941]\n",
            "   [0.70588235 0.6745098  0.57647059]\n",
            "   ...\n",
            "   [0.69803922 0.67058824 0.62745098]\n",
            "   [0.68627451 0.6627451  0.61176471]\n",
            "   [0.68627451 0.6627451  0.60392157]]\n",
            "\n",
            "  [[0.77647059 0.74117647 0.67843137]\n",
            "   [0.74117647 0.70980392 0.63529412]\n",
            "   [0.69803922 0.66666667 0.58431373]\n",
            "   ...\n",
            "   [0.76470588 0.72156863 0.6627451 ]\n",
            "   [0.76862745 0.74117647 0.67058824]\n",
            "   [0.76470588 0.74509804 0.67058824]]]\n",
            "\n",
            "\n",
            " [[[0.89803922 0.89803922 0.9372549 ]\n",
            "   [0.9254902  0.92941176 0.96862745]\n",
            "   [0.91764706 0.9254902  0.96862745]\n",
            "   ...\n",
            "   [0.85098039 0.85882353 0.91372549]\n",
            "   [0.86666667 0.8745098  0.91764706]\n",
            "   [0.87058824 0.8745098  0.91372549]]\n",
            "\n",
            "  [[0.87058824 0.86666667 0.89803922]\n",
            "   [0.9372549  0.9372549  0.97647059]\n",
            "   [0.91372549 0.91764706 0.96470588]\n",
            "   ...\n",
            "   [0.8745098  0.8745098  0.9254902 ]\n",
            "   [0.89019608 0.89411765 0.93333333]\n",
            "   [0.82352941 0.82745098 0.8627451 ]]\n",
            "\n",
            "  [[0.83529412 0.80784314 0.82745098]\n",
            "   [0.91764706 0.90980392 0.9372549 ]\n",
            "   [0.90588235 0.91372549 0.95686275]\n",
            "   ...\n",
            "   [0.8627451  0.8627451  0.90980392]\n",
            "   [0.8627451  0.85882353 0.90980392]\n",
            "   [0.79215686 0.79607843 0.84313725]]\n",
            "\n",
            "  ...\n",
            "\n",
            "  [[0.58823529 0.56078431 0.52941176]\n",
            "   [0.54901961 0.52941176 0.49803922]\n",
            "   [0.51764706 0.49803922 0.47058824]\n",
            "   ...\n",
            "   [0.87843137 0.87058824 0.85490196]\n",
            "   [0.90196078 0.89411765 0.88235294]\n",
            "   [0.94509804 0.94509804 0.93333333]]\n",
            "\n",
            "  [[0.5372549  0.51764706 0.49411765]\n",
            "   [0.50980392 0.49803922 0.47058824]\n",
            "   [0.49019608 0.4745098  0.45098039]\n",
            "   ...\n",
            "   [0.70980392 0.70588235 0.69803922]\n",
            "   [0.79215686 0.78823529 0.77647059]\n",
            "   [0.83137255 0.82745098 0.81176471]]\n",
            "\n",
            "  [[0.47843137 0.46666667 0.44705882]\n",
            "   [0.4627451  0.45490196 0.43137255]\n",
            "   [0.47058824 0.45490196 0.43529412]\n",
            "   ...\n",
            "   [0.70196078 0.69411765 0.67843137]\n",
            "   [0.64313725 0.64313725 0.63529412]\n",
            "   [0.63921569 0.63921569 0.63137255]]]]\n"
          ],
          "name": "stdout"
        }
      ]
    },
    {
      "cell_type": "markdown",
      "metadata": {
        "id": "Ul_bt4BSZrwb",
        "colab_type": "text"
      },
      "source": [
        "Performing  the one-hot encoding for target classes"
      ]
    },
    {
      "cell_type": "code",
      "metadata": {
        "id": "Kjrngq-kVy8Q",
        "colab_type": "code",
        "colab": {}
      },
      "source": [
        "train_Y=np_utils.to_categorical(train_Y)\n",
        "test_Y=np_utils.to_categorical(test_Y)\n",
        " # Our data set contains 10 classes, so the number of classes is 10\n",
        "\n",
        "num_classes=test_Y.shape[1]"
      ],
      "execution_count": 0,
      "outputs": []
    },
    {
      "cell_type": "code",
      "metadata": {
        "id": "SAYR6TutWPLo",
        "colab_type": "code",
        "colab": {
          "base_uri": "https://localhost:8080/",
          "height": 34
        },
        "outputId": "ed412c70-5d78-4e1d-a165-0dc5b64334c3"
      },
      "source": [
        "print(num_classes)"
      ],
      "execution_count": 21,
      "outputs": [
        {
          "output_type": "stream",
          "text": [
            "10\n"
          ],
          "name": "stdout"
        }
      ]
    },
    {
      "cell_type": "code",
      "metadata": {
        "id": "lx6phGG7WnOj",
        "colab_type": "code",
        "colab": {
          "base_uri": "https://localhost:8080/",
          "height": 170
        },
        "outputId": "8d151db7-7ad7-476e-865a-a3ebb0fb4a3e"
      },
      "source": [
        "print(train_Y)\n",
        "print()\n",
        "print('The one hot label is:', train_Y[0])\n"
      ],
      "execution_count": 24,
      "outputs": [
        {
          "output_type": "stream",
          "text": [
            "[[0. 0. 0. ... 0. 0. 0.]\n",
            " [0. 0. 0. ... 0. 0. 1.]\n",
            " [0. 0. 0. ... 0. 0. 1.]\n",
            " ...\n",
            " [0. 0. 0. ... 0. 0. 1.]\n",
            " [0. 1. 0. ... 0. 0. 0.]\n",
            " [0. 1. 0. ... 0. 0. 0.]]\n",
            "\n",
            "The one hot label is: [0. 0. 0. 0. 0. 0. 1. 0. 0. 0.]\n"
          ],
          "name": "stdout"
        }
      ]
    },
    {
      "cell_type": "markdown",
      "metadata": {
        "id": "RYP0keLDbJGc",
        "colab_type": "text"
      },
      "source": [
        "# **Define** **Model**\n",
        "\n",
        "By Creating   the sequential model and adding the layers \n",
        "\n"
      ]
    },
    {
      "cell_type": "code",
      "metadata": {
        "id": "a7NP46cNbGsF",
        "colab_type": "code",
        "outputId": "f346d1a6-4ba7-4b5c-aebb-acb9b16e8644",
        "colab": {
          "base_uri": "https://localhost:8080/",
          "height": 122
        }
      },
      "source": [
        "\tmodel = Sequential()\n",
        "\tmodel.add(Conv2D(32, (3, 3), activation='relu', kernel_initializer='he_uniform', padding='same', input_shape=(32, 32, 3)))\n",
        "\tmodel.add(BatchNormalization())\n",
        "\tmodel.add(Conv2D(32, (3, 3), activation='relu', kernel_initializer='he_uniform', padding='same'))\n",
        "\tmodel.add(BatchNormalization())\n",
        "\tmodel.add(MaxPooling2D((2, 2)))\n",
        "\tmodel.add(Dropout(0.2))\n",
        "\tmodel.add(Conv2D(64, (3, 3), activation='relu', kernel_initializer='he_uniform', padding='same'))\n",
        "\tmodel.add(BatchNormalization())\n",
        "\tmodel.add(Conv2D(64, (3, 3), activation='relu', kernel_initializer='he_uniform', padding='same'))\n",
        "\tmodel.add(BatchNormalization())\n",
        "\tmodel.add(MaxPooling2D((2, 2)))\n",
        "\tmodel.add(Dropout(0.3))\n",
        "\tmodel.add(Conv2D(128, (3, 3), activation='relu', kernel_initializer='he_uniform', padding='same'))\n",
        "\tmodel.add(BatchNormalization())\n",
        "\tmodel.add(Conv2D(128, (3, 3), activation='relu', kernel_initializer='he_uniform', padding='same'))\n",
        "\tmodel.add(BatchNormalization())\n",
        "\tmodel.add(MaxPooling2D((2, 2)))\n",
        "\tmodel.add(Dropout(0.4))\n",
        "\tmodel.add(Flatten())\n",
        "\tmodel.add(Dense(128, activation='relu', kernel_initializer='he_uniform'))\n",
        "\tmodel.add(BatchNormalization())\n",
        "\tmodel.add(Dropout(0.5))\n",
        "\tmodel.add(Dense(10, activation='softmax'))\n",
        "\t# compile model\n",
        "\tsgd = SGD(lr=0.001, momentum=0.9)\n"
      ],
      "execution_count": 0,
      "outputs": [
        {
          "output_type": "stream",
          "text": [
            "WARNING:tensorflow:From /tensorflow-1.15.2/python3.6/tensorflow_core/python/ops/resource_variable_ops.py:1630: calling BaseResourceVariable.__init__ (from tensorflow.python.ops.resource_variable_ops) with constraint is deprecated and will be removed in a future version.\n",
            "Instructions for updating:\n",
            "If using Keras pass *_constraint arguments to layers.\n",
            "WARNING:tensorflow:From /usr/local/lib/python3.6/dist-packages/keras/backend/tensorflow_backend.py:4070: The name tf.nn.max_pool is deprecated. Please use tf.nn.max_pool2d instead.\n",
            "\n"
          ],
          "name": "stdout"
        }
      ]
    },
    {
      "cell_type": "markdown",
      "metadata": {
        "id": "BYqKDN5tfJMP",
        "colab_type": "text"
      },
      "source": [
        "# Train Model\n",
        "\n",
        "\n"
      ]
    },
    {
      "cell_type": "code",
      "metadata": {
        "id": "sRyQQrHAe9Tj",
        "colab_type": "code",
        "outputId": "1f3d8923-b583-4960-9053-601f4728f7bf",
        "colab": {
          "base_uri": "https://localhost:8080/",
          "height": 1000
        }
      },
      "source": [
        "# compile the model \n",
        "model.compile(loss='categorical_crossentropy',optimizer=sgd,metrics=['accuracy'])\n",
        "# Train model for a given number of epochs\n",
        "\n",
        "history=model.fit(train_X,train_Y,validation_data=(test_X,test_Y),verbose=1,epochs=epochs,batch_size=batch_size)\n"
      ],
      "execution_count": 0,
      "outputs": [
        {
          "output_type": "stream",
          "text": [
            "WARNING:tensorflow:From /usr/local/lib/python3.6/dist-packages/keras/backend/tensorflow_backend.py:422: The name tf.global_variables is deprecated. Please use tf.compat.v1.global_variables instead.\n",
            "\n",
            "Train on 50000 samples, validate on 10000 samples\n",
            "Epoch 1/200\n",
            "50000/50000 [==============================] - 16s 328us/step - loss: 2.0355 - accuracy: 0.3247 - val_loss: 1.5130 - val_accuracy: 0.4500\n",
            "Epoch 2/200\n",
            "50000/50000 [==============================] - 10s 191us/step - loss: 1.5235 - accuracy: 0.4425 - val_loss: 1.4031 - val_accuracy: 0.4994\n",
            "Epoch 3/200\n",
            "50000/50000 [==============================] - 10s 190us/step - loss: 1.3963 - accuracy: 0.4899 - val_loss: 1.2720 - val_accuracy: 0.5420\n",
            "Epoch 4/200\n",
            "50000/50000 [==============================] - 9s 188us/step - loss: 1.3042 - accuracy: 0.5273 - val_loss: 1.4088 - val_accuracy: 0.5065\n",
            "Epoch 5/200\n",
            "50000/50000 [==============================] - 9s 188us/step - loss: 1.2303 - accuracy: 0.5566 - val_loss: 1.1843 - val_accuracy: 0.5831\n",
            "Epoch 6/200\n",
            "50000/50000 [==============================] - 9s 187us/step - loss: 1.1740 - accuracy: 0.5795 - val_loss: 1.1575 - val_accuracy: 0.5836\n",
            "Epoch 7/200\n",
            "50000/50000 [==============================] - 9s 186us/step - loss: 1.1234 - accuracy: 0.5970 - val_loss: 1.1105 - val_accuracy: 0.6060\n",
            "Epoch 8/200\n",
            "50000/50000 [==============================] - 9s 185us/step - loss: 1.0782 - accuracy: 0.6145 - val_loss: 1.0123 - val_accuracy: 0.6380\n",
            "Epoch 9/200\n",
            "50000/50000 [==============================] - 9s 185us/step - loss: 1.0444 - accuracy: 0.6295 - val_loss: 1.0133 - val_accuracy: 0.6450\n",
            "Epoch 10/200\n",
            "50000/50000 [==============================] - 9s 186us/step - loss: 1.0137 - accuracy: 0.6416 - val_loss: 1.0362 - val_accuracy: 0.6305\n",
            "Epoch 11/200\n",
            "50000/50000 [==============================] - 9s 187us/step - loss: 0.9837 - accuracy: 0.6528 - val_loss: 0.9908 - val_accuracy: 0.6485\n",
            "Epoch 12/200\n",
            "50000/50000 [==============================] - 9s 184us/step - loss: 0.9557 - accuracy: 0.6613 - val_loss: 0.9010 - val_accuracy: 0.6808\n",
            "Epoch 13/200\n",
            "50000/50000 [==============================] - 9s 183us/step - loss: 0.9345 - accuracy: 0.6694 - val_loss: 0.8878 - val_accuracy: 0.6850\n",
            "Epoch 14/200\n",
            "50000/50000 [==============================] - 9s 183us/step - loss: 0.9158 - accuracy: 0.6749 - val_loss: 0.8719 - val_accuracy: 0.6938\n",
            "Epoch 15/200\n",
            "50000/50000 [==============================] - 9s 182us/step - loss: 0.8950 - accuracy: 0.6840 - val_loss: 0.9182 - val_accuracy: 0.6738\n",
            "Epoch 16/200\n",
            "50000/50000 [==============================] - 9s 189us/step - loss: 0.8721 - accuracy: 0.6934 - val_loss: 0.8228 - val_accuracy: 0.7068\n",
            "Epoch 17/200\n",
            "50000/50000 [==============================] - 9s 186us/step - loss: 0.8537 - accuracy: 0.7011 - val_loss: 0.8050 - val_accuracy: 0.7144\n",
            "Epoch 18/200\n",
            "50000/50000 [==============================] - 9s 185us/step - loss: 0.8427 - accuracy: 0.7057 - val_loss: 0.7779 - val_accuracy: 0.7281\n",
            "Epoch 19/200\n",
            "50000/50000 [==============================] - 9s 184us/step - loss: 0.8276 - accuracy: 0.7091 - val_loss: 0.8259 - val_accuracy: 0.7091\n",
            "Epoch 20/200\n",
            "50000/50000 [==============================] - 9s 183us/step - loss: 0.8107 - accuracy: 0.7156 - val_loss: 0.7283 - val_accuracy: 0.7446\n",
            "Epoch 21/200\n",
            "50000/50000 [==============================] - 9s 181us/step - loss: 0.8003 - accuracy: 0.7211 - val_loss: 0.7135 - val_accuracy: 0.7505\n",
            "Epoch 22/200\n",
            "50000/50000 [==============================] - 9s 180us/step - loss: 0.7863 - accuracy: 0.7229 - val_loss: 0.8536 - val_accuracy: 0.7024\n",
            "Epoch 23/200\n",
            "50000/50000 [==============================] - 9s 181us/step - loss: 0.7743 - accuracy: 0.7278 - val_loss: 0.7739 - val_accuracy: 0.7306\n",
            "Epoch 24/200\n",
            "50000/50000 [==============================] - 9s 181us/step - loss: 0.7608 - accuracy: 0.7339 - val_loss: 0.7014 - val_accuracy: 0.7561\n",
            "Epoch 25/200\n",
            "50000/50000 [==============================] - 9s 182us/step - loss: 0.7449 - accuracy: 0.7389 - val_loss: 0.7668 - val_accuracy: 0.7352\n",
            "Epoch 26/200\n",
            "50000/50000 [==============================] - 9s 181us/step - loss: 0.7418 - accuracy: 0.7394 - val_loss: 0.7132 - val_accuracy: 0.7506\n",
            "Epoch 27/200\n",
            "50000/50000 [==============================] - 9s 181us/step - loss: 0.7258 - accuracy: 0.7447 - val_loss: 0.6924 - val_accuracy: 0.7541\n",
            "Epoch 28/200\n",
            "50000/50000 [==============================] - 9s 183us/step - loss: 0.7155 - accuracy: 0.7508 - val_loss: 0.7773 - val_accuracy: 0.7298\n",
            "Epoch 29/200\n",
            "50000/50000 [==============================] - 9s 181us/step - loss: 0.7062 - accuracy: 0.7541 - val_loss: 0.6627 - val_accuracy: 0.7667\n",
            "Epoch 30/200\n",
            "50000/50000 [==============================] - 9s 183us/step - loss: 0.6979 - accuracy: 0.7558 - val_loss: 0.6422 - val_accuracy: 0.7737\n",
            "Epoch 31/200\n",
            "50000/50000 [==============================] - 9s 183us/step - loss: 0.6915 - accuracy: 0.7584 - val_loss: 0.6799 - val_accuracy: 0.7652\n",
            "Epoch 32/200\n",
            "50000/50000 [==============================] - 9s 183us/step - loss: 0.6835 - accuracy: 0.7609 - val_loss: 0.6574 - val_accuracy: 0.7686\n",
            "Epoch 33/200\n",
            "50000/50000 [==============================] - 9s 184us/step - loss: 0.6723 - accuracy: 0.7653 - val_loss: 0.6380 - val_accuracy: 0.7752\n",
            "Epoch 34/200\n",
            "50000/50000 [==============================] - 9s 183us/step - loss: 0.6637 - accuracy: 0.7673 - val_loss: 0.6297 - val_accuracy: 0.7784\n",
            "Epoch 35/200\n",
            "50000/50000 [==============================] - 9s 183us/step - loss: 0.6544 - accuracy: 0.7713 - val_loss: 0.6610 - val_accuracy: 0.7706\n",
            "Epoch 36/200\n",
            "50000/50000 [==============================] - 9s 184us/step - loss: 0.6484 - accuracy: 0.7744 - val_loss: 0.6143 - val_accuracy: 0.7909\n",
            "Epoch 37/200\n",
            "50000/50000 [==============================] - 9s 185us/step - loss: 0.6427 - accuracy: 0.7758 - val_loss: 0.6343 - val_accuracy: 0.7801\n",
            "Epoch 38/200\n",
            "50000/50000 [==============================] - 9s 184us/step - loss: 0.6328 - accuracy: 0.7779 - val_loss: 0.6188 - val_accuracy: 0.7857\n",
            "Epoch 39/200\n",
            "50000/50000 [==============================] - 9s 182us/step - loss: 0.6261 - accuracy: 0.7805 - val_loss: 0.5894 - val_accuracy: 0.7932\n",
            "Epoch 40/200\n",
            "50000/50000 [==============================] - 9s 183us/step - loss: 0.6221 - accuracy: 0.7837 - val_loss: 0.6095 - val_accuracy: 0.7875\n",
            "Epoch 41/200\n",
            "50000/50000 [==============================] - 9s 182us/step - loss: 0.6129 - accuracy: 0.7843 - val_loss: 0.5720 - val_accuracy: 0.8000\n",
            "Epoch 42/200\n",
            "50000/50000 [==============================] - 9s 184us/step - loss: 0.6017 - accuracy: 0.7911 - val_loss: 0.5781 - val_accuracy: 0.7992\n",
            "Epoch 43/200\n",
            "50000/50000 [==============================] - 9s 183us/step - loss: 0.5998 - accuracy: 0.7909 - val_loss: 0.6123 - val_accuracy: 0.7915\n",
            "Epoch 44/200\n",
            "50000/50000 [==============================] - 9s 183us/step - loss: 0.5897 - accuracy: 0.7938 - val_loss: 0.5916 - val_accuracy: 0.7972\n",
            "Epoch 45/200\n",
            "50000/50000 [==============================] - 9s 184us/step - loss: 0.5846 - accuracy: 0.7987 - val_loss: 0.5582 - val_accuracy: 0.8056\n",
            "Epoch 46/200\n",
            "50000/50000 [==============================] - 9s 185us/step - loss: 0.5796 - accuracy: 0.7988 - val_loss: 0.5878 - val_accuracy: 0.7976\n",
            "Epoch 47/200\n",
            "50000/50000 [==============================] - 9s 182us/step - loss: 0.5754 - accuracy: 0.7995 - val_loss: 0.5676 - val_accuracy: 0.8007\n",
            "Epoch 48/200\n",
            "50000/50000 [==============================] - 9s 183us/step - loss: 0.5636 - accuracy: 0.8025 - val_loss: 0.5848 - val_accuracy: 0.8004\n",
            "Epoch 49/200\n",
            "50000/50000 [==============================] - 9s 182us/step - loss: 0.5613 - accuracy: 0.8057 - val_loss: 0.5856 - val_accuracy: 0.7970\n",
            "Epoch 50/200\n",
            "50000/50000 [==============================] - 9s 188us/step - loss: 0.5604 - accuracy: 0.8042 - val_loss: 0.5589 - val_accuracy: 0.8072\n",
            "Epoch 51/200\n",
            "50000/50000 [==============================] - 9s 185us/step - loss: 0.5495 - accuracy: 0.8084 - val_loss: 0.5525 - val_accuracy: 0.8093\n",
            "Epoch 52/200\n",
            "50000/50000 [==============================] - 9s 184us/step - loss: 0.5441 - accuracy: 0.8110 - val_loss: 0.5547 - val_accuracy: 0.8083\n",
            "Epoch 53/200\n",
            "50000/50000 [==============================] - 9s 183us/step - loss: 0.5354 - accuracy: 0.8112 - val_loss: 0.5592 - val_accuracy: 0.8055\n",
            "Epoch 54/200\n",
            "50000/50000 [==============================] - 9s 184us/step - loss: 0.5312 - accuracy: 0.8166 - val_loss: 0.5509 - val_accuracy: 0.8085\n",
            "Epoch 55/200\n",
            "50000/50000 [==============================] - 9s 183us/step - loss: 0.5304 - accuracy: 0.8168 - val_loss: 0.5733 - val_accuracy: 0.8038\n",
            "Epoch 56/200\n",
            "50000/50000 [==============================] - 9s 183us/step - loss: 0.5236 - accuracy: 0.8174 - val_loss: 0.5290 - val_accuracy: 0.8177\n",
            "Epoch 57/200\n",
            "50000/50000 [==============================] - 9s 182us/step - loss: 0.5176 - accuracy: 0.8203 - val_loss: 0.5247 - val_accuracy: 0.8185\n",
            "Epoch 58/200\n",
            "50000/50000 [==============================] - 9s 184us/step - loss: 0.5213 - accuracy: 0.8189 - val_loss: 0.5980 - val_accuracy: 0.8005\n",
            "Epoch 59/200\n",
            "50000/50000 [==============================] - 9s 183us/step - loss: 0.5078 - accuracy: 0.8240 - val_loss: 0.6088 - val_accuracy: 0.7985\n",
            "Epoch 60/200\n",
            "50000/50000 [==============================] - 9s 184us/step - loss: 0.5038 - accuracy: 0.8242 - val_loss: 0.5289 - val_accuracy: 0.8198\n",
            "Epoch 61/200\n",
            "50000/50000 [==============================] - 9s 183us/step - loss: 0.5012 - accuracy: 0.8256 - val_loss: 0.5460 - val_accuracy: 0.8132\n",
            "Epoch 62/200\n",
            "50000/50000 [==============================] - 9s 181us/step - loss: 0.4976 - accuracy: 0.8263 - val_loss: 0.5021 - val_accuracy: 0.8267\n",
            "Epoch 63/200\n",
            "50000/50000 [==============================] - 9s 183us/step - loss: 0.4857 - accuracy: 0.8302 - val_loss: 0.5138 - val_accuracy: 0.8221\n",
            "Epoch 64/200\n",
            "50000/50000 [==============================] - 9s 181us/step - loss: 0.4844 - accuracy: 0.8308 - val_loss: 0.5665 - val_accuracy: 0.8083\n",
            "Epoch 65/200\n",
            "50000/50000 [==============================] - 9s 182us/step - loss: 0.4844 - accuracy: 0.8313 - val_loss: 0.5384 - val_accuracy: 0.8164\n",
            "Epoch 66/200\n",
            "50000/50000 [==============================] - 9s 181us/step - loss: 0.4801 - accuracy: 0.8313 - val_loss: 0.5454 - val_accuracy: 0.8125\n",
            "Epoch 67/200\n",
            "50000/50000 [==============================] - 9s 182us/step - loss: 0.4762 - accuracy: 0.8336 - val_loss: 0.5155 - val_accuracy: 0.8221\n",
            "Epoch 68/200\n",
            "50000/50000 [==============================] - 9s 182us/step - loss: 0.4718 - accuracy: 0.8352 - val_loss: 0.5018 - val_accuracy: 0.8259\n",
            "Epoch 69/200\n",
            "50000/50000 [==============================] - 9s 181us/step - loss: 0.4632 - accuracy: 0.8376 - val_loss: 0.5585 - val_accuracy: 0.8075\n",
            "Epoch 70/200\n",
            "50000/50000 [==============================] - 9s 181us/step - loss: 0.4581 - accuracy: 0.8414 - val_loss: 0.5307 - val_accuracy: 0.8205\n",
            "Epoch 71/200\n",
            "50000/50000 [==============================] - 9s 181us/step - loss: 0.4596 - accuracy: 0.8400 - val_loss: 0.5424 - val_accuracy: 0.8164\n",
            "Epoch 72/200\n",
            "50000/50000 [==============================] - 9s 183us/step - loss: 0.4581 - accuracy: 0.8402 - val_loss: 0.5619 - val_accuracy: 0.8078\n",
            "Epoch 73/200\n",
            "50000/50000 [==============================] - 9s 183us/step - loss: 0.4524 - accuracy: 0.8424 - val_loss: 0.5678 - val_accuracy: 0.8122\n",
            "Epoch 74/200\n",
            "50000/50000 [==============================] - 9s 184us/step - loss: 0.4425 - accuracy: 0.8455 - val_loss: 0.5203 - val_accuracy: 0.8235\n",
            "Epoch 75/200\n",
            "50000/50000 [==============================] - 9s 183us/step - loss: 0.4397 - accuracy: 0.8454 - val_loss: 0.4904 - val_accuracy: 0.8331\n",
            "Epoch 76/200\n",
            "50000/50000 [==============================] - 9s 185us/step - loss: 0.4394 - accuracy: 0.8455 - val_loss: 0.5164 - val_accuracy: 0.8247\n",
            "Epoch 77/200\n",
            "50000/50000 [==============================] - 9s 184us/step - loss: 0.4324 - accuracy: 0.8497 - val_loss: 0.4894 - val_accuracy: 0.8334\n",
            "Epoch 78/200\n",
            "50000/50000 [==============================] - 9s 185us/step - loss: 0.4309 - accuracy: 0.8503 - val_loss: 0.4950 - val_accuracy: 0.8322\n",
            "Epoch 79/200\n",
            "50000/50000 [==============================] - 9s 186us/step - loss: 0.4273 - accuracy: 0.8508 - val_loss: 0.5070 - val_accuracy: 0.8288\n",
            "Epoch 80/200\n",
            "50000/50000 [==============================] - 9s 184us/step - loss: 0.4199 - accuracy: 0.8522 - val_loss: 0.5135 - val_accuracy: 0.8264\n",
            "Epoch 81/200\n",
            "50000/50000 [==============================] - 9s 187us/step - loss: 0.4172 - accuracy: 0.8553 - val_loss: 0.5221 - val_accuracy: 0.8229\n",
            "Epoch 82/200\n",
            "50000/50000 [==============================] - 9s 184us/step - loss: 0.4146 - accuracy: 0.8556 - val_loss: 0.4853 - val_accuracy: 0.8369\n",
            "Epoch 83/200\n",
            "50000/50000 [==============================] - 9s 186us/step - loss: 0.4163 - accuracy: 0.8551 - val_loss: 0.5532 - val_accuracy: 0.8135\n",
            "Epoch 84/200\n",
            "50000/50000 [==============================] - 10s 190us/step - loss: 0.4086 - accuracy: 0.8582 - val_loss: 0.5253 - val_accuracy: 0.8262\n",
            "Epoch 85/200\n",
            "50000/50000 [==============================] - 9s 185us/step - loss: 0.4084 - accuracy: 0.8565 - val_loss: 0.5085 - val_accuracy: 0.8293\n",
            "Epoch 86/200\n",
            "50000/50000 [==============================] - 9s 188us/step - loss: 0.4036 - accuracy: 0.8586 - val_loss: 0.5518 - val_accuracy: 0.8200\n",
            "Epoch 87/200\n",
            "50000/50000 [==============================] - 9s 186us/step - loss: 0.4009 - accuracy: 0.8599 - val_loss: 0.5086 - val_accuracy: 0.8338\n",
            "Epoch 88/200\n",
            "50000/50000 [==============================] - 9s 187us/step - loss: 0.3975 - accuracy: 0.8621 - val_loss: 0.5039 - val_accuracy: 0.8306\n",
            "Epoch 89/200\n",
            "50000/50000 [==============================] - 9s 186us/step - loss: 0.3988 - accuracy: 0.8609 - val_loss: 0.4761 - val_accuracy: 0.8403\n",
            "Epoch 90/200\n",
            "50000/50000 [==============================] - 9s 187us/step - loss: 0.3888 - accuracy: 0.8640 - val_loss: 0.5005 - val_accuracy: 0.8316\n",
            "Epoch 91/200\n",
            "50000/50000 [==============================] - 9s 186us/step - loss: 0.3877 - accuracy: 0.8645 - val_loss: 0.4740 - val_accuracy: 0.8384\n",
            "Epoch 92/200\n",
            "50000/50000 [==============================] - 9s 186us/step - loss: 0.3870 - accuracy: 0.8657 - val_loss: 0.5012 - val_accuracy: 0.8334\n",
            "Epoch 93/200\n",
            "50000/50000 [==============================] - 9s 187us/step - loss: 0.3869 - accuracy: 0.8640 - val_loss: 0.4896 - val_accuracy: 0.8380\n",
            "Epoch 94/200\n",
            "50000/50000 [==============================] - 9s 186us/step - loss: 0.3837 - accuracy: 0.8646 - val_loss: 0.4832 - val_accuracy: 0.8391\n",
            "Epoch 95/200\n",
            "50000/50000 [==============================] - 9s 186us/step - loss: 0.3748 - accuracy: 0.8690 - val_loss: 0.5296 - val_accuracy: 0.8273\n",
            "Epoch 96/200\n",
            "50000/50000 [==============================] - 10s 190us/step - loss: 0.3756 - accuracy: 0.8699 - val_loss: 0.4841 - val_accuracy: 0.8395\n",
            "Epoch 97/200\n",
            "50000/50000 [==============================] - 9s 187us/step - loss: 0.3737 - accuracy: 0.8700 - val_loss: 0.4738 - val_accuracy: 0.8405\n",
            "Epoch 98/200\n",
            "50000/50000 [==============================] - 9s 189us/step - loss: 0.3636 - accuracy: 0.8725 - val_loss: 0.4976 - val_accuracy: 0.8372\n",
            "Epoch 99/200\n",
            "50000/50000 [==============================] - 9s 186us/step - loss: 0.3687 - accuracy: 0.8718 - val_loss: 0.4763 - val_accuracy: 0.8432\n",
            "Epoch 100/200\n",
            "50000/50000 [==============================] - 9s 187us/step - loss: 0.3601 - accuracy: 0.8748 - val_loss: 0.4661 - val_accuracy: 0.8453\n",
            "Epoch 101/200\n",
            "50000/50000 [==============================] - 9s 187us/step - loss: 0.3601 - accuracy: 0.8741 - val_loss: 0.5556 - val_accuracy: 0.8213\n",
            "Epoch 102/200\n",
            "50000/50000 [==============================] - 9s 185us/step - loss: 0.3565 - accuracy: 0.8753 - val_loss: 0.4871 - val_accuracy: 0.8417\n",
            "Epoch 103/200\n",
            "50000/50000 [==============================] - 9s 188us/step - loss: 0.3509 - accuracy: 0.8780 - val_loss: 0.5097 - val_accuracy: 0.8327\n",
            "Epoch 104/200\n",
            "50000/50000 [==============================] - 9s 187us/step - loss: 0.3521 - accuracy: 0.8774 - val_loss: 0.4920 - val_accuracy: 0.8386\n",
            "Epoch 105/200\n",
            "50000/50000 [==============================] - 9s 187us/step - loss: 0.3477 - accuracy: 0.8778 - val_loss: 0.4748 - val_accuracy: 0.8438\n",
            "Epoch 106/200\n",
            "50000/50000 [==============================] - 9s 188us/step - loss: 0.3460 - accuracy: 0.8787 - val_loss: 0.4821 - val_accuracy: 0.8435\n",
            "Epoch 107/200\n",
            "50000/50000 [==============================] - 9s 188us/step - loss: 0.3408 - accuracy: 0.8803 - val_loss: 0.5136 - val_accuracy: 0.8337\n",
            "Epoch 108/200\n",
            "50000/50000 [==============================] - 9s 187us/step - loss: 0.3415 - accuracy: 0.8809 - val_loss: 0.4922 - val_accuracy: 0.8379\n",
            "Epoch 109/200\n",
            "50000/50000 [==============================] - 9s 189us/step - loss: 0.3356 - accuracy: 0.8838 - val_loss: 0.4626 - val_accuracy: 0.8448\n",
            "Epoch 110/200\n",
            "50000/50000 [==============================] - 9s 188us/step - loss: 0.3361 - accuracy: 0.8830 - val_loss: 0.4914 - val_accuracy: 0.8428\n",
            "Epoch 111/200\n",
            "50000/50000 [==============================] - 9s 189us/step - loss: 0.3365 - accuracy: 0.8822 - val_loss: 0.4882 - val_accuracy: 0.8406\n",
            "Epoch 112/200\n",
            "50000/50000 [==============================] - 9s 189us/step - loss: 0.3303 - accuracy: 0.8852 - val_loss: 0.5094 - val_accuracy: 0.8398\n",
            "Epoch 113/200\n",
            "50000/50000 [==============================] - 9s 189us/step - loss: 0.3269 - accuracy: 0.8864 - val_loss: 0.4709 - val_accuracy: 0.8502\n",
            "Epoch 114/200\n",
            "50000/50000 [==============================] - 9s 187us/step - loss: 0.3314 - accuracy: 0.8836 - val_loss: 0.5070 - val_accuracy: 0.8407\n",
            "Epoch 115/200\n",
            "50000/50000 [==============================] - 9s 188us/step - loss: 0.3204 - accuracy: 0.8883 - val_loss: 0.4718 - val_accuracy: 0.8469\n",
            "Epoch 116/200\n",
            "50000/50000 [==============================] - 9s 187us/step - loss: 0.3245 - accuracy: 0.8864 - val_loss: 0.4767 - val_accuracy: 0.8511\n",
            "Epoch 117/200\n",
            "50000/50000 [==============================] - 10s 191us/step - loss: 0.3184 - accuracy: 0.8877 - val_loss: 0.4663 - val_accuracy: 0.8456\n",
            "Epoch 118/200\n",
            "50000/50000 [==============================] - 9s 185us/step - loss: 0.3133 - accuracy: 0.8896 - val_loss: 0.4788 - val_accuracy: 0.8468\n",
            "Epoch 119/200\n",
            "50000/50000 [==============================] - 9s 185us/step - loss: 0.3133 - accuracy: 0.8909 - val_loss: 0.4698 - val_accuracy: 0.8526\n",
            "Epoch 120/200\n",
            "50000/50000 [==============================] - 9s 184us/step - loss: 0.3123 - accuracy: 0.8918 - val_loss: 0.4701 - val_accuracy: 0.8504\n",
            "Epoch 121/200\n",
            "50000/50000 [==============================] - 9s 184us/step - loss: 0.3113 - accuracy: 0.8917 - val_loss: 0.4757 - val_accuracy: 0.8494\n",
            "Epoch 122/200\n",
            "50000/50000 [==============================] - 9s 185us/step - loss: 0.3080 - accuracy: 0.8929 - val_loss: 0.4866 - val_accuracy: 0.8458\n",
            "Epoch 123/200\n",
            "50000/50000 [==============================] - 9s 185us/step - loss: 0.3059 - accuracy: 0.8926 - val_loss: 0.5063 - val_accuracy: 0.8432\n",
            "Epoch 124/200\n",
            "50000/50000 [==============================] - 9s 186us/step - loss: 0.3105 - accuracy: 0.8909 - val_loss: 0.4724 - val_accuracy: 0.8516\n",
            "Epoch 125/200\n",
            "50000/50000 [==============================] - 9s 183us/step - loss: 0.3008 - accuracy: 0.8940 - val_loss: 0.4542 - val_accuracy: 0.8551\n",
            "Epoch 126/200\n",
            "50000/50000 [==============================] - 9s 185us/step - loss: 0.3001 - accuracy: 0.8936 - val_loss: 0.5068 - val_accuracy: 0.8438\n",
            "Epoch 127/200\n",
            "50000/50000 [==============================] - 9s 183us/step - loss: 0.2957 - accuracy: 0.8959 - val_loss: 0.4902 - val_accuracy: 0.8452\n",
            "Epoch 128/200\n",
            "50000/50000 [==============================] - 9s 183us/step - loss: 0.2941 - accuracy: 0.8957 - val_loss: 0.4751 - val_accuracy: 0.8508\n",
            "Epoch 129/200\n",
            "50000/50000 [==============================] - 9s 185us/step - loss: 0.2927 - accuracy: 0.8982 - val_loss: 0.4840 - val_accuracy: 0.8515\n",
            "Epoch 130/200\n",
            "50000/50000 [==============================] - 9s 186us/step - loss: 0.2922 - accuracy: 0.8979 - val_loss: 0.5100 - val_accuracy: 0.8434\n",
            "Epoch 131/200\n",
            "50000/50000 [==============================] - 9s 184us/step - loss: 0.2934 - accuracy: 0.8984 - val_loss: 0.4860 - val_accuracy: 0.8523\n",
            "Epoch 132/200\n",
            "50000/50000 [==============================] - 9s 186us/step - loss: 0.2874 - accuracy: 0.8999 - val_loss: 0.4503 - val_accuracy: 0.8558\n",
            "Epoch 133/200\n",
            "50000/50000 [==============================] - 9s 186us/step - loss: 0.2835 - accuracy: 0.9010 - val_loss: 0.5055 - val_accuracy: 0.8443\n",
            "Epoch 134/200\n",
            "50000/50000 [==============================] - 9s 182us/step - loss: 0.2807 - accuracy: 0.9009 - val_loss: 0.4740 - val_accuracy: 0.8525\n",
            "Epoch 135/200\n",
            "50000/50000 [==============================] - 9s 183us/step - loss: 0.2835 - accuracy: 0.9006 - val_loss: 0.4914 - val_accuracy: 0.8481\n",
            "Epoch 136/200\n",
            "50000/50000 [==============================] - 9s 181us/step - loss: 0.2833 - accuracy: 0.9003 - val_loss: 0.4610 - val_accuracy: 0.8557\n",
            "Epoch 137/200\n",
            "50000/50000 [==============================] - 9s 182us/step - loss: 0.2816 - accuracy: 0.9007 - val_loss: 0.4798 - val_accuracy: 0.8518\n",
            "Epoch 138/200\n",
            "50000/50000 [==============================] - 9s 182us/step - loss: 0.2741 - accuracy: 0.9042 - val_loss: 0.4764 - val_accuracy: 0.8522\n",
            "Epoch 139/200\n",
            "50000/50000 [==============================] - 9s 182us/step - loss: 0.2781 - accuracy: 0.9030 - val_loss: 0.5032 - val_accuracy: 0.8493\n",
            "Epoch 140/200\n",
            "50000/50000 [==============================] - 9s 183us/step - loss: 0.2778 - accuracy: 0.9017 - val_loss: 0.4656 - val_accuracy: 0.8531\n",
            "Epoch 141/200\n",
            "50000/50000 [==============================] - 9s 183us/step - loss: 0.2742 - accuracy: 0.9038 - val_loss: 0.4706 - val_accuracy: 0.8545\n",
            "Epoch 142/200\n",
            "50000/50000 [==============================] - 9s 182us/step - loss: 0.2721 - accuracy: 0.9026 - val_loss: 0.4775 - val_accuracy: 0.8522\n",
            "Epoch 143/200\n",
            "50000/50000 [==============================] - 9s 183us/step - loss: 0.2708 - accuracy: 0.9051 - val_loss: 0.4605 - val_accuracy: 0.8589\n",
            "Epoch 144/200\n",
            "50000/50000 [==============================] - 9s 182us/step - loss: 0.2707 - accuracy: 0.9044 - val_loss: 0.4675 - val_accuracy: 0.8562\n",
            "Epoch 145/200\n",
            "50000/50000 [==============================] - 9s 182us/step - loss: 0.2639 - accuracy: 0.9073 - val_loss: 0.4598 - val_accuracy: 0.8584\n",
            "Epoch 146/200\n",
            "50000/50000 [==============================] - 9s 182us/step - loss: 0.2608 - accuracy: 0.9087 - val_loss: 0.4728 - val_accuracy: 0.8541\n",
            "Epoch 147/200\n",
            "50000/50000 [==============================] - 9s 181us/step - loss: 0.2635 - accuracy: 0.9074 - val_loss: 0.4950 - val_accuracy: 0.8526\n",
            "Epoch 148/200\n",
            "50000/50000 [==============================] - 9s 182us/step - loss: 0.2582 - accuracy: 0.9102 - val_loss: 0.4667 - val_accuracy: 0.8567\n",
            "Epoch 149/200\n",
            "50000/50000 [==============================] - 9s 182us/step - loss: 0.2639 - accuracy: 0.9080 - val_loss: 0.4643 - val_accuracy: 0.8565\n",
            "Epoch 150/200\n",
            "50000/50000 [==============================] - 9s 184us/step - loss: 0.2642 - accuracy: 0.9079 - val_loss: 0.4723 - val_accuracy: 0.8579\n",
            "Epoch 151/200\n",
            "50000/50000 [==============================] - 9s 189us/step - loss: 0.2581 - accuracy: 0.9086 - val_loss: 0.5004 - val_accuracy: 0.8488\n",
            "Epoch 152/200\n",
            "50000/50000 [==============================] - 9s 181us/step - loss: 0.2538 - accuracy: 0.9115 - val_loss: 0.4916 - val_accuracy: 0.8536\n",
            "Epoch 153/200\n",
            "50000/50000 [==============================] - 9s 180us/step - loss: 0.2524 - accuracy: 0.9120 - val_loss: 0.5099 - val_accuracy: 0.8494\n",
            "Epoch 154/200\n",
            "50000/50000 [==============================] - 9s 182us/step - loss: 0.2504 - accuracy: 0.9123 - val_loss: 0.4808 - val_accuracy: 0.8569\n",
            "Epoch 155/200\n",
            "50000/50000 [==============================] - 9s 178us/step - loss: 0.2488 - accuracy: 0.9120 - val_loss: 0.4785 - val_accuracy: 0.8584\n",
            "Epoch 156/200\n",
            "50000/50000 [==============================] - 9s 180us/step - loss: 0.2507 - accuracy: 0.9109 - val_loss: 0.5106 - val_accuracy: 0.8470\n",
            "Epoch 157/200\n",
            "50000/50000 [==============================] - 9s 180us/step - loss: 0.2503 - accuracy: 0.9119 - val_loss: 0.4680 - val_accuracy: 0.8602\n",
            "Epoch 158/200\n",
            "50000/50000 [==============================] - 9s 181us/step - loss: 0.2483 - accuracy: 0.9121 - val_loss: 0.4750 - val_accuracy: 0.8577\n",
            "Epoch 159/200\n",
            "50000/50000 [==============================] - 9s 182us/step - loss: 0.2464 - accuracy: 0.9138 - val_loss: 0.4977 - val_accuracy: 0.8529\n",
            "Epoch 160/200\n",
            "50000/50000 [==============================] - 9s 181us/step - loss: 0.2410 - accuracy: 0.9153 - val_loss: 0.5229 - val_accuracy: 0.8473\n",
            "Epoch 161/200\n",
            "50000/50000 [==============================] - 9s 181us/step - loss: 0.2393 - accuracy: 0.9143 - val_loss: 0.4771 - val_accuracy: 0.8591\n",
            "Epoch 162/200\n",
            "50000/50000 [==============================] - 9s 183us/step - loss: 0.2403 - accuracy: 0.9158 - val_loss: 0.4669 - val_accuracy: 0.8591\n",
            "Epoch 163/200\n",
            "50000/50000 [==============================] - 9s 182us/step - loss: 0.2439 - accuracy: 0.9145 - val_loss: 0.4821 - val_accuracy: 0.8575\n",
            "Epoch 164/200\n",
            "50000/50000 [==============================] - 9s 181us/step - loss: 0.2354 - accuracy: 0.9168 - val_loss: 0.4645 - val_accuracy: 0.8585\n",
            "Epoch 165/200\n",
            "50000/50000 [==============================] - 9s 179us/step - loss: 0.2346 - accuracy: 0.9182 - val_loss: 0.4703 - val_accuracy: 0.8608\n",
            "Epoch 166/200\n",
            "50000/50000 [==============================] - 9s 180us/step - loss: 0.2383 - accuracy: 0.9170 - val_loss: 0.4784 - val_accuracy: 0.8587\n",
            "Epoch 167/200\n",
            "50000/50000 [==============================] - 9s 180us/step - loss: 0.2350 - accuracy: 0.9178 - val_loss: 0.4745 - val_accuracy: 0.8619\n",
            "Epoch 168/200\n",
            "50000/50000 [==============================] - 9s 183us/step - loss: 0.2373 - accuracy: 0.9170 - val_loss: 0.4742 - val_accuracy: 0.8582\n",
            "Epoch 169/200\n",
            "50000/50000 [==============================] - 9s 181us/step - loss: 0.2315 - accuracy: 0.9192 - val_loss: 0.4925 - val_accuracy: 0.8552\n",
            "Epoch 170/200\n",
            "50000/50000 [==============================] - 9s 181us/step - loss: 0.2337 - accuracy: 0.9178 - val_loss: 0.4825 - val_accuracy: 0.8572\n",
            "Epoch 171/200\n",
            "50000/50000 [==============================] - 9s 182us/step - loss: 0.2328 - accuracy: 0.9184 - val_loss: 0.4754 - val_accuracy: 0.8622\n",
            "Epoch 172/200\n",
            "50000/50000 [==============================] - 9s 182us/step - loss: 0.2264 - accuracy: 0.9200 - val_loss: 0.4590 - val_accuracy: 0.8635\n",
            "Epoch 173/200\n",
            "50000/50000 [==============================] - 9s 181us/step - loss: 0.2232 - accuracy: 0.9221 - val_loss: 0.4734 - val_accuracy: 0.8592\n",
            "Epoch 174/200\n",
            "50000/50000 [==============================] - 9s 184us/step - loss: 0.2235 - accuracy: 0.9216 - val_loss: 0.5005 - val_accuracy: 0.8559\n",
            "Epoch 175/200\n",
            "50000/50000 [==============================] - 9s 183us/step - loss: 0.2225 - accuracy: 0.9226 - val_loss: 0.5525 - val_accuracy: 0.8439\n",
            "Epoch 176/200\n",
            "50000/50000 [==============================] - 9s 183us/step - loss: 0.2237 - accuracy: 0.9222 - val_loss: 0.4892 - val_accuracy: 0.8559\n",
            "Epoch 177/200\n",
            "50000/50000 [==============================] - 9s 184us/step - loss: 0.2214 - accuracy: 0.9217 - val_loss: 0.4952 - val_accuracy: 0.8535\n",
            "Epoch 178/200\n",
            "50000/50000 [==============================] - 9s 184us/step - loss: 0.2187 - accuracy: 0.9223 - val_loss: 0.4823 - val_accuracy: 0.8609\n",
            "Epoch 179/200\n",
            "50000/50000 [==============================] - 9s 181us/step - loss: 0.2157 - accuracy: 0.9243 - val_loss: 0.5161 - val_accuracy: 0.8557\n",
            "Epoch 180/200\n",
            "50000/50000 [==============================] - 9s 181us/step - loss: 0.2191 - accuracy: 0.9227 - val_loss: 0.4998 - val_accuracy: 0.8557\n",
            "Epoch 181/200\n",
            "50000/50000 [==============================] - 9s 181us/step - loss: 0.2155 - accuracy: 0.9229 - val_loss: 0.4962 - val_accuracy: 0.8603\n",
            "Epoch 182/200\n",
            "50000/50000 [==============================] - 9s 183us/step - loss: 0.2190 - accuracy: 0.9237 - val_loss: 0.4791 - val_accuracy: 0.8636\n",
            "Epoch 183/200\n",
            "50000/50000 [==============================] - 9s 182us/step - loss: 0.2153 - accuracy: 0.9239 - val_loss: 0.4911 - val_accuracy: 0.8569\n",
            "Epoch 184/200\n",
            "50000/50000 [==============================] - 9s 180us/step - loss: 0.2100 - accuracy: 0.9268 - val_loss: 0.4821 - val_accuracy: 0.8599\n",
            "Epoch 185/200\n",
            "50000/50000 [==============================] - 9s 187us/step - loss: 0.2132 - accuracy: 0.9248 - val_loss: 0.4898 - val_accuracy: 0.8577\n",
            "Epoch 186/200\n",
            "50000/50000 [==============================] - 9s 184us/step - loss: 0.2139 - accuracy: 0.9252 - val_loss: 0.4913 - val_accuracy: 0.8605\n",
            "Epoch 187/200\n",
            "50000/50000 [==============================] - 9s 180us/step - loss: 0.2106 - accuracy: 0.9256 - val_loss: 0.4834 - val_accuracy: 0.8609\n",
            "Epoch 188/200\n",
            "50000/50000 [==============================] - 9s 182us/step - loss: 0.2083 - accuracy: 0.9259 - val_loss: 0.4851 - val_accuracy: 0.8576\n",
            "Epoch 189/200\n",
            "50000/50000 [==============================] - 9s 182us/step - loss: 0.2047 - accuracy: 0.9276 - val_loss: 0.4787 - val_accuracy: 0.8625\n",
            "Epoch 190/200\n",
            "50000/50000 [==============================] - 9s 181us/step - loss: 0.2075 - accuracy: 0.9268 - val_loss: 0.4902 - val_accuracy: 0.8601\n",
            "Epoch 191/200\n",
            "50000/50000 [==============================] - 9s 180us/step - loss: 0.2099 - accuracy: 0.9255 - val_loss: 0.4831 - val_accuracy: 0.8611\n",
            "Epoch 192/200\n",
            "50000/50000 [==============================] - 9s 180us/step - loss: 0.2017 - accuracy: 0.9292 - val_loss: 0.4802 - val_accuracy: 0.8635\n",
            "Epoch 193/200\n",
            "50000/50000 [==============================] - 9s 180us/step - loss: 0.2066 - accuracy: 0.9274 - val_loss: 0.5290 - val_accuracy: 0.8524\n",
            "Epoch 194/200\n",
            "50000/50000 [==============================] - 9s 179us/step - loss: 0.2015 - accuracy: 0.9297 - val_loss: 0.4788 - val_accuracy: 0.8647\n",
            "Epoch 195/200\n",
            "50000/50000 [==============================] - 9s 182us/step - loss: 0.2044 - accuracy: 0.9294 - val_loss: 0.4733 - val_accuracy: 0.8648\n",
            "Epoch 196/200\n",
            "50000/50000 [==============================] - 9s 181us/step - loss: 0.2005 - accuracy: 0.9294 - val_loss: 0.4719 - val_accuracy: 0.8657\n",
            "Epoch 197/200\n",
            "50000/50000 [==============================] - 9s 180us/step - loss: 0.2024 - accuracy: 0.9287 - val_loss: 0.4767 - val_accuracy: 0.8645\n",
            "Epoch 198/200\n",
            "50000/50000 [==============================] - 9s 180us/step - loss: 0.1999 - accuracy: 0.9295 - val_loss: 0.4840 - val_accuracy: 0.8663\n",
            "Epoch 199/200\n",
            "50000/50000 [==============================] - 9s 180us/step - loss: 0.2045 - accuracy: 0.9277 - val_loss: 0.4812 - val_accuracy: 0.8608\n",
            "Epoch 200/200\n",
            "50000/50000 [==============================] - 9s 180us/step - loss: 0.1986 - accuracy: 0.9288 - val_loss: 0.4779 - val_accuracy: 0.8653\n"
          ],
          "name": "stdout"
        }
      ]
    },
    {
      "cell_type": "code",
      "metadata": {
        "id": "Epq8uSoTfkcB",
        "colab_type": "code",
        "outputId": "e040de5a-eeab-4f56-9639-d41d01b5681f",
        "colab": {
          "base_uri": "https://localhost:8080/",
          "height": 329
        }
      },
      "source": [
        "\n",
        "# Evaluate model against test data\n",
        "\n",
        "score=model.evaluate(test_X,test_Y,verbose=0)\n",
        "print('Test loss',score[0])\n",
        "print('Test accuracy',score[1])\n",
        "\n",
        "# summarize history for accuracy\n",
        "\n",
        "plt.plot(history.history['accuracy'])\n",
        "plt.plot(history.history['val_accuracy'])\n",
        "plt.title('Model accuracy')\n",
        "plt.ylabel('Accuracy')\n",
        "plt.xlabel('Epoch')\n",
        "plt.legend(['Train', 'Test'], loc='upper left')\n",
        "plt.show()\n",
        "\n"
      ],
      "execution_count": 0,
      "outputs": [
        {
          "output_type": "stream",
          "text": [
            "Test loss 0.47789035730957985\n",
            "Test accuracy 0.8652999997138977\n"
          ],
          "name": "stdout"
        },
        {
          "output_type": "display_data",
          "data": {
            "image/png": "[encoded data removed]",
            "text/plain": [
              "<Figure size 432x288 with 1 Axes>"
            ]
          },
          "metadata": {
            "tags": [],
            "needs_background": "light"
          }
        }
      ]
    },
    {
      "cell_type": "code",
      "metadata": {
        "id": "27Uhdmlrmfq1",
        "colab_type": "code",
        "outputId": "924f02f5-bdbb-4924-eea1-c86b62915f90",
        "colab": {
          "base_uri": "https://localhost:8080/",
          "height": 295
        }
      },
      "source": [
        "#Visualize the models loss\n",
        "plt.plot(history.history['loss'])\n",
        "plt.plot(history.history['val_loss'])\n",
        "plt.title('Model loss')\n",
        "plt.ylabel('Loss')\n",
        "plt.xlabel('Epoch')\n",
        "plt.legend(['Train', 'Val'], loc='upper right')\n",
        "plt.show()\n"
      ],
      "execution_count": 0,
      "outputs": [
        {
          "output_type": "display_data",
          "data": {
            "image/png": "[encoded data removed]",
            "text/plain": [
              "<Figure size 432x288 with 1 Axes>"
            ]
          },
          "metadata": {
            "tags": [],
            "needs_background": "light"
          }
        }
      ]
    },
    {
      "cell_type": "code",
      "metadata": {
        "id": "f1uQCBOImS8w",
        "colab_type": "code",
        "outputId": "3490a6ed-ecfe-4724-fb6b-832c0ce39b33",
        "colab": {
          "resources": {
            "http://localhost:8080/nbextensions/google.colab/files.js": {
              "data": "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",
              "ok": true,
              "headers": [
                [
                  "content-type",
                  "application/javascript"
                ]
              ],
              "status": 200,
              "status_text": ""
            }
          },
          "base_uri": "https://localhost:8080/",
          "height": 262
        }
      },
      "source": [
        "results={\n",
        "   0:'aeroplane',\n",
        "   1:'automobile',\n",
        "   2:'bird',\n",
        "   3:'cat',\n",
        "   4:'deer',\n",
        "   5:'dog',\n",
        "   6:'frog',\n",
        "   7:'horse',\n",
        "   8:'ship',\n",
        "   9:'truck'\n",
        "}\n",
        "\n",
        "#Load the data\n",
        "from google.colab import files # Use to load data on Google Colab\n",
        "uploaded = files.upload() # Use to load data on Google Colab\n",
        "new_image = plt.imread(\"aeroplane.jpg\") #Read in the image (3, 14, 20)\n",
        "img = plt.imshow(new_image)\n"
      ],
      "execution_count": 3,
      "outputs": [
        {
          "output_type": "display_data",
          "data": {
            "text/html": [
              "\n",
              "     <input type=\"file\" id=\"files-c5ec307b-266a-42c7-9d08-42f181d211c7\" name=\"files[]\" multiple disabled />\n",
              "     <output id=\"result-c5ec307b-266a-42c7-9d08-42f181d211c7\">\n",
              "      Upload widget is only available when the cell has been executed in the\n",
              "      current browser session. Please rerun this cell to enable.\n",
              "      </output>\n",
              "      <script src=\"/nbextensions/google.colab/files.js\"></script> "
            ],
            "text/plain": [
              "<IPython.core.display.HTML object>"
            ]
          },
          "metadata": {
            "tags": []
          }
        },
        {
          "output_type": "display_data",
          "data": {
            "image/png": "[encoded data removed]",
            "text/plain": [
              "<Figure size 432x288 with 1 Axes>"
            ]
          },
          "metadata": {
            "tags": [],
            "needs_background": "light"
          }
        }
      ]
    },
    {
      "cell_type": "code",
      "metadata": {
        "id": "iHR-HWkgowmn",
        "colab_type": "code",
        "outputId": "276bff00-d613-442a-c38b-afbe0d071ec3",
        "colab": {
          "base_uri": "https://localhost:8080/",
          "height": 266
        }
      },
      "source": [
        "from skimage.transform import resize\n",
        "resized_image = resize(new_image, (32,32,3))\n",
        "img = plt.imshow(resized_image)\n"
      ],
      "execution_count": 4,
      "outputs": [
        {
          "output_type": "display_data",
          "data": {
            "image/png": "[encoded data removed]",
            "text/plain": [
              "<Figure size 432x288 with 1 Axes>"
            ]
          },
          "metadata": {
            "tags": [],
            "needs_background": "light"
          }
        }
      ]
    },
    {
      "cell_type": "code",
      "metadata": {
        "id": "6kr2ot42pJsS",
        "colab_type": "code",
        "outputId": "b7edf19f-83e9-4265-bb08-bb742effc41c",
        "colab": {
          "base_uri": "https://localhost:8080/",
          "height": 51
        }
      },
      "source": [
        "predictions = model.predict(np.array( [resized_image] ))\n",
        "predictions.shape\n",
        "print(predictions)"
      ],
      "execution_count": 10,
      "outputs": [
        {
          "output_type": "stream",
          "text": [
            "[[9.9999118e-01 4.3610171e-06 3.1937302e-06 3.4522344e-08 1.9015289e-07\n",
            "  4.2697715e-10 1.7504719e-08 6.6644130e-09 9.6990777e-07 2.5088944e-08]]\n"
          ],
          "name": "stdout"
        }
      ]
    },
    {
      "cell_type": "code",
      "metadata": {
        "id": "f4T7RY9Ctzex",
        "colab_type": "code",
        "outputId": "3c1ceaaa-dff1-47a9-e2d3-fe70589e042e",
        "colab": {
          "base_uri": "https://localhost:8080/",
          "height": 34
        }
      },
      "source": [
        "list_index = [0,1,2,3,4,5,6,7,8,9]\n",
        "x = predictions\n",
        "for i in range(10):\n",
        "  for j in range(10):\n",
        "    if x[0][list_index[i]] > x[0][list_index[j]]:\n",
        "      temp = list_index[i]\n",
        "      list_index[i] = list_index[j]\n",
        "      list_index[j] = temp\n",
        "#Show the sorted labels in order from highest probability to lowest\n",
        "print(list_index)"
      ],
      "execution_count": 11,
      "outputs": [
        {
          "output_type": "stream",
          "text": [
            "[0, 1, 2, 8, 4, 3, 9, 6, 7, 5]\n"
          ],
          "name": "stdout"
        }
      ]
    },
    {
      "cell_type": "markdown",
      "metadata": {
        "id": "GJOXS1PHXvuf",
        "colab_type": "text"
      },
      "source": [
        "# Prediction"
      ]
    },
    {
      "cell_type": "markdown",
      "metadata": {
        "id": "OolltbrOXvlA",
        "colab_type": "text"
      },
      "source": [
        ""
      ]
    },
    {
      "cell_type": "code",
      "metadata": {
        "id": "RZ6C0sNjv2UO",
        "colab_type": "code",
        "outputId": "da41f610-e19c-414f-9c0e-a1edb5ee92aa",
        "colab": {
          "base_uri": "https://localhost:8080/",
          "height": 187
        }
      },
      "source": [
        "i=0\n",
        "for i in range(10):\n",
        "  print(results[list_index[i]], ':', round(predictions[0][list_index[i]] * 100, 2), '%')\n"
      ],
      "execution_count": 12,
      "outputs": [
        {
          "output_type": "stream",
          "text": [
            "aeroplane : 100.0 %\n",
            "automobile : 0.0 %\n",
            "bird : 0.0 %\n",
            "ship : 0.0 %\n",
            "deer : 0.0 %\n",
            "cat : 0.0 %\n",
            "truck : 0.0 %\n",
            "frog : 0.0 %\n",
            "horse : 0.0 %\n",
            "dog : 0.0 %\n"
          ],
          "name": "stdout"
        }
      ]
    },
    {
      "cell_type": "code",
      "metadata": {
        "id": "QDgnj86uv-uS",
        "colab_type": "code",
        "colab": {}
      },
      "source": [
        "\tmodel.save('final_model.h5')\n"
      ],
      "execution_count": 0,
      "outputs": []
    },
    {
      "cell_type": "code",
      "metadata": {
        "id": "GTLAvbo5z6Om",
        "colab_type": "code",
        "colab": {
          "base_uri": "https://localhost:8080/",
          "height": 156
        },
        "outputId": "c085600b-272e-4d41-cff9-04155ab4dbd5"
      },
      "source": [
        "from keras.models import load_model\n",
        "model = load_model('final_model.h5')"
      ],
      "execution_count": 26,
      "outputs": [
        {
          "output_type": "stream",
          "text": [
            "WARNING:tensorflow:From /tensorflow-1.15.2/python3.6/tensorflow_core/python/ops/resource_variable_ops.py:1630: calling BaseResourceVariable.__init__ (from tensorflow.python.ops.resource_variable_ops) with constraint is deprecated and will be removed in a future version.\n",
            "Instructions for updating:\n",
            "If using Keras pass *_constraint arguments to layers.\n",
            "WARNING:tensorflow:From /usr/local/lib/python3.6/dist-packages/keras/backend/tensorflow_backend.py:4070: The name tf.nn.max_pool is deprecated. Please use tf.nn.max_pool2d instead.\n",
            "\n",
            "WARNING:tensorflow:From /usr/local/lib/python3.6/dist-packages/keras/backend/tensorflow_backend.py:422: The name tf.global_variables is deprecated. Please use tf.compat.v1.global_variables instead.\n",
            "\n"
          ],
          "name": "stdout"
        }
      ]
    },
    {
      "cell_type": "code",
      "metadata": {
        "id": "OMb1WkaHe6Tl",
        "colab_type": "code",
        "colab": {}
      },
      "source": [
        "\n"
      ],
      "execution_count": 0,
      "outputs": []
    }
  ]
}