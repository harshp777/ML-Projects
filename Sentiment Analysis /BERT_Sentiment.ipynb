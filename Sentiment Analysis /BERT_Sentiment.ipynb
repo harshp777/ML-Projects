{
  "nbformat": 4,
  "nbformat_minor": 0,
  "metadata": {
    "colab": {
      "name": "BERT_Sentiment.ipynb",
      "provenance": [],
      "collapsed_sections": [],
      "include_colab_link": true
    },
    "kernelspec": {
      "name": "python3",
      "display_name": "Python 3"
    },
    "accelerator": "GPU"
  },
  "cells": [
    {
      "cell_type": "markdown",
      "metadata": {
        "id": "view-in-github",
        "colab_type": "text"
      },
      "source": [
        "<a href=\"https://colab.research.google.com/github/harshp777/Machine-learning/blob/master/Sentiment%20Analysis%20/BERT_Sentiment.ipynb\" target=\"_parent\"><img src=\"https://colab.research.google.com/assets/colab-badge.svg\" alt=\"Open In Colab\"/></a>"
      ]
    },
    {
      "cell_type": "markdown",
      "metadata": {
        "id": "-XYOUdwbNZ1f",
        "colab_type": "text"
      },
      "source": [
        "# BERT Sentiment Classification\n",
        "\n",
        "\n",
        "The Google AI team published a paper in 2018 titled [Bidirectional Encoder Representations from Transformers for Natural Language Understanding](https://arxiv.org/abs/1810.04805), or more simply, BERT. This model is trained a large corpus of natural language text using in a self-supervised learning style. During training, the model is tries to predict a small set of masked words in a sentence.\n",
        "\n",
        "Consider this sentence: \"It's raining outside, unfortunately I left my _________ at home\". Clearly, the missing word should be umbrella, or similar. The missing word can be determined from context found in surrounding words. BERT learns context by \"reading\" millions of sentences, producing a pre-trained model that understands context. Layers can be added on top of pre-trained BERT models for specific language tasks. The complete model can be more accurate due to [transfer learning](https://en.wikipedia.org/wiki/Transfer_learning).\n",
        "\n",
        "Pre-trained BERT models are available for public use. The example below demonstrates how a simple classification model with a modest training data set can achieve high accuracy by taking advantage of knowledge BERT has previously learned.\n",
        "\n"
      ]
    },
    {
      "cell_type": "code",
      "metadata": {
        "id": "N6WlBu6GNSyi",
        "colab_type": "code",
        "colab": {}
      },
      "source": [
        "%tensorflow_version 2.x"
      ],
      "execution_count": 0,
      "outputs": []
    },
    {
      "cell_type": "code",
      "metadata": {
        "id": "ZdwgQ7MfNoj2",
        "colab_type": "code",
        "outputId": "fd836bfe-68e8-4138-ca78-44b1ba592567",
        "colab": {
          "base_uri": "https://localhost:8080/",
          "height": 102
        }
      },
      "source": [
        "!pip install --quiet bert-for-tf2\n",
        "!pip install --quiet sentencepiece"
      ],
      "execution_count": 2,
      "outputs": [
        {
          "output_type": "stream",
          "text": [
            "\u001b[?25l\r\u001b[K     |████████                        | 10kB 23.8MB/s eta 0:00:01\r\u001b[K     |████████████████▏               | 20kB 1.6MB/s eta 0:00:01\r\u001b[K     |████████████████████████▎       | 30kB 2.1MB/s eta 0:00:01\r\u001b[K     |████████████████████████████████| 40kB 1.7MB/s \n",
            "\u001b[?25h  Building wheel for bert-for-tf2 (setup.py) ... \u001b[?25l\u001b[?25hdone\n",
            "  Building wheel for py-params (setup.py) ... \u001b[?25l\u001b[?25hdone\n",
            "  Building wheel for params-flow (setup.py) ... \u001b[?25l\u001b[?25hdone\n",
            "\u001b[K     |████████████████████████████████| 1.1MB 2.6MB/s \n",
            "\u001b[?25h"
          ],
          "name": "stdout"
        }
      ]
    },
    {
      "cell_type": "code",
      "metadata": {
        "id": "VJzvJaBONyHe",
        "colab_type": "code",
        "colab": {}
      },
      "source": [
        "import tensorflow_hub as hub\n",
        "import bert\n",
        "import pandas as pd\n",
        "import numpy as np\n",
        "import tensorflow as tf\n",
        "\n",
        "from tensorflow.keras.layers import Dense, Dropout, Input, Dropout, Lambda\n",
        "from tensorflow.keras import Sequential\n",
        "from tensorflow.keras.models import Model\n",
        "from tensorflow.keras.optimizers import Adam\n",
        "\n",
        "from sklearn.model_selection import train_test_split\n",
        "\n",
        "import matplotlib.pyplot as plt\n",
        "import random"
      ],
      "execution_count": 0,
      "outputs": []
    },
    {
      "cell_type": "markdown",
      "metadata": {
        "id": "tl9VyhxKnZRP",
        "colab_type": "text"
      },
      "source": [
        "# Training Data\n",
        "\n",
        "Download labeled data from [UCI Machine Learning Repository](https://archive.ics.uci.edu/ml/datasets/Sentiment+Labelled+Sentences)"
      ]
    },
    {
      "cell_type": "code",
      "metadata": {
        "id": "Gr-B216RN3zu",
        "colab_type": "code",
        "outputId": "c2ea1a56-fc54-4f57-ca23-0190f9b486b4",
        "colab": {
          "base_uri": "https://localhost:8080/",
          "height": 102
        }
      },
      "source": [
        "# Download data from https://archive.ics.uci.edu/ml/datasets/Sentiment+Labelled+Sentences\n",
        "\n",
        "!wget --quiet \"https://archive.ics.uci.edu/ml/machine-learning-databases/00331/sentiment%20labelled%20sentences.zip\"\n",
        "!unzip -q \"sentiment labelled sentences\"\n",
        "!mv \"sentiment labelled sentences\" data\n",
        "!ls -l data"
      ],
      "execution_count": 4,
      "outputs": [
        {
          "output_type": "stream",
          "text": [
            "total 208\n",
            "-rw-r--r-- 1 root root 58226 Jul  5  2016 amazon_cells_labelled.txt\n",
            "-rw-r--r-- 1 root root 85285 Feb 15  2015 imdb_labelled.txt\n",
            "-rw-r--r-- 1 root root  1070 May 31  2015 readme.txt\n",
            "-rw-r--r-- 1 root root 61320 Jul  5  2016 yelp_labelled.txt\n"
          ],
          "name": "stdout"
        }
      ]
    },
    {
      "cell_type": "code",
      "metadata": {
        "id": "j2JYb3UQNte2",
        "colab_type": "code",
        "outputId": "0c31eb78-b858-4669-a9a7-0460f7c552a7",
        "colab": {
          "base_uri": "https://localhost:8080/",
          "height": 221
        }
      },
      "source": [
        "files = ['data/yelp_labelled.txt', 'data/amazon_cells_labelled.txt', 'data/imdb_labelled.txt']\n",
        "\n",
        "df_list = []\n",
        "for file in files:\n",
        "    df = pd.read_csv(file, names=['comment', 'sentiment'], sep='\\t')\n",
        "    df_list.append(df)\n",
        "\n",
        "data = pd.concat(df_list)\n",
        "data['length'] = data.comment.str.split(' ').str.len()\n",
        "\n",
        "max_seq_length = 128\n",
        "\n",
        "# Keep only short comments\n",
        "shortComments = data[data.length < max_seq_length-5]\n",
        "print('Number of rows :{}'.format(len(shortComments)))\n",
        "\n",
        "shortComments.head()"
      ],
      "execution_count": 5,
      "outputs": [
        {
          "output_type": "stream",
          "text": [
            "Number of rows :2743\n"
          ],
          "name": "stdout"
        },
        {
          "output_type": "execute_result",
          "data": {
            "text/html": [
              "<div>\n",
              "<style scoped>\n",
              "    .dataframe tbody tr th:only-of-type {\n",
              "        vertical-align: middle;\n",
              "    }\n",
              "\n",
              "    .dataframe tbody tr th {\n",
              "        vertical-align: top;\n",
              "    }\n",
              "\n",
              "    .dataframe thead th {\n",
              "        text-align: right;\n",
              "    }\n",
              "</style>\n",
              "<table border=\"1\" class=\"dataframe\">\n",
              "  <thead>\n",
              "    <tr style=\"text-align: right;\">\n",
              "      <th></th>\n",
              "      <th>comment</th>\n",
              "      <th>sentiment</th>\n",
              "      <th>length</th>\n",
              "    </tr>\n",
              "  </thead>\n",
              "  <tbody>\n",
              "    <tr>\n",
              "      <th>0</th>\n",
              "      <td>Wow... Loved this place.</td>\n",
              "      <td>1</td>\n",
              "      <td>4</td>\n",
              "    </tr>\n",
              "    <tr>\n",
              "      <th>1</th>\n",
              "      <td>Crust is not good.</td>\n",
              "      <td>0</td>\n",
              "      <td>4</td>\n",
              "    </tr>\n",
              "    <tr>\n",
              "      <th>2</th>\n",
              "      <td>Not tasty and the texture was just nasty.</td>\n",
              "      <td>0</td>\n",
              "      <td>8</td>\n",
              "    </tr>\n",
              "    <tr>\n",
              "      <th>3</th>\n",
              "      <td>Stopped by during the late May bank holiday of...</td>\n",
              "      <td>1</td>\n",
              "      <td>15</td>\n",
              "    </tr>\n",
              "    <tr>\n",
              "      <th>4</th>\n",
              "      <td>The selection on the menu was great and so wer...</td>\n",
              "      <td>1</td>\n",
              "      <td>12</td>\n",
              "    </tr>\n",
              "  </tbody>\n",
              "</table>\n",
              "</div>"
            ],
            "text/plain": [
              "                                             comment  sentiment  length\n",
              "0                           Wow... Loved this place.          1       4\n",
              "1                                 Crust is not good.          0       4\n",
              "2          Not tasty and the texture was just nasty.          0       8\n",
              "3  Stopped by during the late May bank holiday of...          1      15\n",
              "4  The selection on the menu was great and so wer...          1      12"
            ]
          },
          "metadata": {
            "tags": []
          },
          "execution_count": 5
        }
      ]
    },
    {
      "cell_type": "markdown",
      "metadata": {
        "id": "hg7hnkt4neK1",
        "colab_type": "text"
      },
      "source": [
        "# Data Preparation"
      ]
    },
    {
      "cell_type": "code",
      "metadata": {
        "id": "no25EuibRkn3",
        "colab_type": "code",
        "colab": {}
      },
      "source": [
        "comments = shortComments.comment.astype(str).tolist()\n",
        "sentiments = shortComments.sentiment.tolist()\n",
        "labels = np.asarray(sentiments)\n",
        "\n",
        "\n"
      ],
      "execution_count": 0,
      "outputs": []
    },
    {
      "cell_type": "code",
      "metadata": {
        "id": "c3S9Ni8xilcF",
        "colab_type": "code",
        "colab": {}
      },
      "source": [
        "x_train, x_test, y_train, y_test = train_test_split(comments, labels, test_size=0.2, random_state=42)"
      ],
      "execution_count": 0,
      "outputs": []
    },
    {
      "cell_type": "code",
      "metadata": {
        "id": "SLsycFuUQUMU",
        "colab_type": "code",
        "colab": {}
      },
      "source": [
        "bert_path = \"https://tfhub.dev/tensorflow/bert_en_uncased_L-12_H-768_A-12/1\"\n",
        "bert_layer = hub.KerasLayer(bert_path, trainable=False, name='BERT')\n",
        "vocab_file1 = bert_layer.resolved_object.vocab_file.asset_path.numpy()\n",
        "tokenizer = bert.bert_tokenization.FullTokenizer(vocab_file1, do_lower_case=True)"
      ],
      "execution_count": 0,
      "outputs": []
    },
    {
      "cell_type": "code",
      "metadata": {
        "id": "tsWSnJaj5H2V",
        "colab_type": "code",
        "colab": {}
      },
      "source": [
        "def encodeText(textList):\n",
        "  token_list = []\n",
        "  att_list = []\n",
        "  segment_list = []\n",
        "  for text in textList:\n",
        "    tokens = tokenizer.tokenize(text)\n",
        "    padding = ['[PAD]'] * (max_seq_length - len(tokens) - 2)\n",
        "    token_ids = tokenizer.convert_tokens_to_ids(['[CLS]'] + tokens + ['[SEP]'] + padding)\n",
        "    token_list.append(token_ids)\n",
        "\n",
        "    att_mask = [int(id > 0) for id in token_ids]\n",
        "    att_list.append(att_mask)\n",
        "\n",
        "    segment_ids = [0]*max_seq_length\n",
        "    segment_list.append(segment_ids)\n",
        "  return [tf.cast(token_list,tf.int32), tf.cast(att_list,tf.int32), tf.cast(segment_list,tf.int32)]"
      ],
      "execution_count": 0,
      "outputs": []
    },
    {
      "cell_type": "markdown",
      "metadata": {
        "id": "QmkLLlNEfxPO",
        "colab_type": "text"
      },
      "source": [
        "# Define Model"
      ]
    },
    {
      "cell_type": "code",
      "metadata": {
        "id": "KDGVde87ji8g",
        "colab_type": "code",
        "outputId": "0ebf3804-0515-439e-ad07-a96741f78747",
        "colab": {
          "base_uri": "https://localhost:8080/",
          "height": 391
        }
      },
      "source": [
        "input_word_ids = tf.keras.layers.Input(shape=(max_seq_length,), dtype=tf.int32, name=\"input_word_ids\")\n",
        "input_mask = tf.keras.layers.Input(shape=(max_seq_length,), dtype=tf.int32, name=\"input_mask\")\n",
        "input_segment_ids = tf.keras.layers.Input(shape=(max_seq_length,), dtype=tf.int32, name=\"segment_ids\")\n",
        "pooled_output, sequence_output = bert_layer([input_word_ids, input_mask, input_segment_ids])\n",
        "\n",
        "l1 = Lambda(lambda seq: seq[:, 0, :])(sequence_output)\n",
        "output = Dense(2, activation='softmax')(l1)\n",
        "model = Model([input_word_ids, input_mask, input_segment_ids], output)\n",
        "model.compile(loss='sparse_categorical_crossentropy', optimizer=Adam(), metrics=['accuracy'])\n",
        "model.summary()"
      ],
      "execution_count": 0,
      "outputs": [
        {
          "output_type": "stream",
          "text": [
            "Model: \"model\"\n",
            "__________________________________________________________________________________________________\n",
            "Layer (type)                    Output Shape         Param #     Connected to                     \n",
            "==================================================================================================\n",
            "input_word_ids (InputLayer)     [(None, 128)]        0                                            \n",
            "__________________________________________________________________________________________________\n",
            "input_mask (InputLayer)         [(None, 128)]        0                                            \n",
            "__________________________________________________________________________________________________\n",
            "segment_ids (InputLayer)        [(None, 128)]        0                                            \n",
            "__________________________________________________________________________________________________\n",
            "BERT (KerasLayer)               [(None, 768), (None, 109482241   input_word_ids[0][0]             \n",
            "                                                                 input_mask[0][0]                 \n",
            "                                                                 segment_ids[0][0]                \n",
            "__________________________________________________________________________________________________\n",
            "lambda (Lambda)                 (None, 768)          0           BERT[0][1]                       \n",
            "__________________________________________________________________________________________________\n",
            "dense (Dense)                   (None, 2)            1538        lambda[0][0]                     \n",
            "==================================================================================================\n",
            "Total params: 109,483,779\n",
            "Trainable params: 1,538\n",
            "Non-trainable params: 109,482,241\n",
            "__________________________________________________________________________________________________\n"
          ],
          "name": "stdout"
        }
      ]
    },
    {
      "cell_type": "markdown",
      "metadata": {
        "id": "zBY_Za9Ef2XM",
        "colab_type": "text"
      },
      "source": [
        "# Transfer Learning\n",
        "\n",
        "BERT layer weights/biases are frozen, only train the final dense layer."
      ]
    },
    {
      "cell_type": "code",
      "metadata": {
        "id": "89VjM6GQ050W",
        "colab_type": "code",
        "outputId": "b9ed680f-a393-4aff-903b-839dd7bc1352",
        "colab": {
          "base_uri": "https://localhost:8080/",
          "height": 187
        }
      },
      "source": [
        "history = model.fit(encodeText(x_train), y_train, epochs=5, verbose=1, batch_size = 3, validation_data=(encodeText(x_test), y_test))"
      ],
      "execution_count": 0,
      "outputs": [
        {
          "output_type": "stream",
          "text": [
            "Epoch 1/5\n",
            "732/732 [==============================] - 20s 28ms/step - loss: 0.3683 - accuracy: 0.8564 - val_loss: 0.2886 - val_accuracy: 0.8816\n",
            "Epoch 2/5\n",
            "732/732 [==============================] - 19s 26ms/step - loss: 0.2364 - accuracy: 0.9139 - val_loss: 0.2541 - val_accuracy: 0.8962\n",
            "Epoch 3/5\n",
            "732/732 [==============================] - 19s 26ms/step - loss: 0.2150 - accuracy: 0.9207 - val_loss: 0.2522 - val_accuracy: 0.8925\n",
            "Epoch 4/5\n",
            "732/732 [==============================] - 19s 26ms/step - loss: 0.2026 - accuracy: 0.9275 - val_loss: 0.2508 - val_accuracy: 0.8962\n",
            "Epoch 5/5\n",
            "732/732 [==============================] - 19s 26ms/step - loss: 0.1916 - accuracy: 0.9298 - val_loss: 0.2481 - val_accuracy: 0.8998\n"
          ],
          "name": "stdout"
        }
      ]
    },
    {
      "cell_type": "markdown",
      "metadata": {
        "id": "G_G37pRkgGvf",
        "colab_type": "text"
      },
      "source": [
        "# Fine Tuning\n",
        "\n",
        "Unfreeze BERT layer, choose lower learning rate and retrain all layers."
      ]
    },
    {
      "cell_type": "code",
      "metadata": {
        "id": "SGAnGRAHZjgq",
        "colab_type": "code",
        "outputId": "53bef691-6eda-4f6c-914b-a07152b114a5",
        "colab": {
          "base_uri": "https://localhost:8080/",
          "height": 391
        }
      },
      "source": [
        "bert_layer.trainable = True\n",
        "output.trainable = False\n",
        "model2 = Model([input_word_ids, input_mask, input_segment_ids], output)\n",
        "model2.compile(loss='sparse_categorical_crossentropy', optimizer=Adam(1e-5), metrics=['accuracy'])\n",
        "model2.summary()"
      ],
      "execution_count": 0,
      "outputs": [
        {
          "output_type": "stream",
          "text": [
            "Model: \"model_1\"\n",
            "__________________________________________________________________________________________________\n",
            "Layer (type)                    Output Shape         Param #     Connected to                     \n",
            "==================================================================================================\n",
            "input_word_ids (InputLayer)     [(None, 128)]        0                                            \n",
            "__________________________________________________________________________________________________\n",
            "input_mask (InputLayer)         [(None, 128)]        0                                            \n",
            "__________________________________________________________________________________________________\n",
            "segment_ids (InputLayer)        [(None, 128)]        0                                            \n",
            "__________________________________________________________________________________________________\n",
            "BERT (KerasLayer)               [(None, 768), (None, 109482241   input_word_ids[0][0]             \n",
            "                                                                 input_mask[0][0]                 \n",
            "                                                                 segment_ids[0][0]                \n",
            "__________________________________________________________________________________________________\n",
            "lambda (Lambda)                 (None, 768)          0           BERT[0][1]                       \n",
            "__________________________________________________________________________________________________\n",
            "dense (Dense)                   (None, 2)            1538        lambda[0][0]                     \n",
            "==================================================================================================\n",
            "Total params: 109,483,779\n",
            "Trainable params: 109,483,778\n",
            "Non-trainable params: 1\n",
            "__________________________________________________________________________________________________\n"
          ],
          "name": "stdout"
        }
      ]
    },
    {
      "cell_type": "code",
      "metadata": {
        "id": "ZIQQ78oZTrVl",
        "colab_type": "code",
        "outputId": "eceedcb9-823a-464a-8f48-46d4606e0298",
        "colab": {
          "base_uri": "https://localhost:8080/",
          "height": 187
        }
      },
      "source": [
        "history2 = model2.fit(encodeText(x_train), y_train, epochs=5, verbose=1, batch_size = 3, validation_data=(encodeText(x_test), y_test))"
      ],
      "execution_count": 0,
      "outputs": [
        {
          "output_type": "stream",
          "text": [
            "Epoch 1/5\n",
            "732/732 [==============================] - 53s 72ms/step - loss: 0.1933 - accuracy: 0.9357 - val_loss: 0.1304 - val_accuracy: 0.9472\n",
            "Epoch 2/5\n",
            "732/732 [==============================] - 52s 71ms/step - loss: 0.0159 - accuracy: 0.9945 - val_loss: 0.2569 - val_accuracy: 0.9308\n",
            "Epoch 3/5\n",
            "732/732 [==============================] - 52s 71ms/step - loss: 0.0101 - accuracy: 0.9977 - val_loss: 0.2482 - val_accuracy: 0.9472\n",
            "Epoch 4/5\n",
            "732/732 [==============================] - 52s 71ms/step - loss: 2.9361e-04 - accuracy: 1.0000 - val_loss: 0.3281 - val_accuracy: 0.9362\n",
            "Epoch 5/5\n",
            "732/732 [==============================] - 52s 71ms/step - loss: 5.2208e-05 - accuracy: 1.0000 - val_loss: 0.3152 - val_accuracy: 0.9472\n"
          ],
          "name": "stdout"
        }
      ]
    },
    {
      "cell_type": "code",
      "metadata": {
        "id": "iO1LWnfrHOeD",
        "colab_type": "code",
        "outputId": "efafa641-66c6-48bd-db26-40e57f07cfa6",
        "colab": {
          "base_uri": "https://localhost:8080/",
          "height": 295
        }
      },
      "source": [
        "plt.plot(history2.history['accuracy'])\n",
        "plt.plot(history2.history['val_accuracy'])\n",
        "plt.title('Model accuracy')\n",
        "plt.ylabel('Accuracy')\n",
        "plt.xlabel('Epoch')\n",
        "plt.legend(['Train', 'Test'], loc='upper left')\n",
        "plt.show()"
      ],
      "execution_count": 0,
      "outputs": [
        {
          "output_type": "display_data",
          "data": {
            "image/png": "[encoded data removed]",
            "text/plain": [
              "<Figure size 432x288 with 1 Axes>"
            ]
          },
          "metadata": {
            "tags": [],
            "needs_background": "light"
          }
        }
      ]
    },
    {
      "cell_type": "markdown",
      "metadata": {
        "id": "aM3opEonfIiy",
        "colab_type": "text"
      },
      "source": [
        "# Predictions"
      ]
    },
    {
      "cell_type": "code",
      "metadata": {
        "id": "FJY-hrCsdHqZ",
        "colab_type": "code",
        "colab": {}
      },
      "source": [
        "predictions = model2.predict(encodeText(x_test))\n",
        "most_likely = predictions.argmax(1)"
      ],
      "execution_count": 0,
      "outputs": []
    },
    {
      "cell_type": "code",
      "metadata": {
        "id": "Duv3GUEgdXzD",
        "colab_type": "code",
        "outputId": "71f89b2c-d108-4d37-9d51-b01d954a3b59",
        "colab": {
          "base_uri": "https://localhost:8080/",
          "height": 68
        }
      },
      "source": [
        "index = random.randrange(len(predictions))\n",
        "print(index)\n",
        "print(x_test[index])\n",
        "print('Prediction: %d, label: %d' % (most_likely[index], y_test[index]))"
      ],
      "execution_count": 0,
      "outputs": [
        {
          "output_type": "stream",
          "text": [
            "66\n",
            "1/10 - and only because there is no setting for 0/10.  \n",
            "Prediction: 0, label: 0\n"
          ],
          "name": "stdout"
        }
      ]
    },
    {
      "cell_type": "markdown",
      "metadata": {
        "id": "9jGFSCDDfCDN",
        "colab_type": "text"
      },
      "source": [
        "# Error Analysis"
      ]
    },
    {
      "cell_type": "code",
      "metadata": {
        "id": "LysdAXCheBZW",
        "colab_type": "code",
        "outputId": "e7f4250d-1613-40e2-98d4-ad75498dfe4c",
        "colab": {
          "base_uri": "https://localhost:8080/",
          "height": 315
        }
      },
      "source": [
        "for i in range(1000):\n",
        "    index = random.randrange(len(predictions))\n",
        "    if most_likely[index] != y_test[index]:\n",
        "        break\n",
        "\n",
        "print(x_test[index])\n",
        "print('Prediction: %d, label: %d' % (most_likely[index], y_test[index]))\n",
        "\n",
        "plt.bar(range(2), predictions[index], tick_label=range(2))\n",
        "plt.title('Prediction values')\n",
        "plt.show()"
      ],
      "execution_count": 0,
      "outputs": [
        {
          "output_type": "stream",
          "text": [
            "The lead man is charisma-free.  \n",
            "Prediction: 1, label: 0\n"
          ],
          "name": "stdout"
        },
        {
          "output_type": "display_data",
          "data": {
            "image/png": "[encoded data removed]",
            "text/plain": [
              "<Figure size 432x288 with 1 Axes>"
            ]
          },
          "metadata": {
            "tags": [],
            "needs_background": "light"
          }
        }
      ]
    },
    {
      "cell_type": "code",
      "metadata": {
        "id": "pHtbmSyhe_6x",
        "colab_type": "code",
        "outputId": "c819ee7a-baec-425c-8c57-9d7ff66c000e",
        "colab": {
          "base_uri": "https://localhost:8080/",
          "height": 204
        }
      },
      "source": [
        "text = []\n",
        "labels = []\n",
        "preds = []\n",
        "for i in range(len(predictions)):\n",
        "  if most_likely[i] != y_test[i]:\n",
        "    text.append(x_test[i])\n",
        "    labels.append(y_test[i])\n",
        "    preds.append(most_likely[i])\n",
        "\n",
        "errors = pd.DataFrame({'Comment':text, 'Sentiment':labels, 'Predictions':preds})\n",
        "errors.head()\n"
      ],
      "execution_count": 0,
      "outputs": [
        {
          "output_type": "execute_result",
          "data": {
            "text/html": [
              "<div>\n",
              "<style scoped>\n",
              "    .dataframe tbody tr th:only-of-type {\n",
              "        vertical-align: middle;\n",
              "    }\n",
              "\n",
              "    .dataframe tbody tr th {\n",
              "        vertical-align: top;\n",
              "    }\n",
              "\n",
              "    .dataframe thead th {\n",
              "        text-align: right;\n",
              "    }\n",
              "</style>\n",
              "<table border=\"1\" class=\"dataframe\">\n",
              "  <thead>\n",
              "    <tr style=\"text-align: right;\">\n",
              "      <th></th>\n",
              "      <th>Comment</th>\n",
              "      <th>Sentiment</th>\n",
              "      <th>Predictions</th>\n",
              "    </tr>\n",
              "  </thead>\n",
              "  <tbody>\n",
              "    <tr>\n",
              "      <th>0</th>\n",
              "      <td>It definitely was not as good as my S11.</td>\n",
              "      <td>1</td>\n",
              "      <td>0</td>\n",
              "    </tr>\n",
              "    <tr>\n",
              "      <th>1</th>\n",
              "      <td>You get extra minutes so that you can carry ou...</td>\n",
              "      <td>1</td>\n",
              "      <td>0</td>\n",
              "    </tr>\n",
              "    <tr>\n",
              "      <th>2</th>\n",
              "      <td>I'll be looking for a new earpiece.</td>\n",
              "      <td>0</td>\n",
              "      <td>1</td>\n",
              "    </tr>\n",
              "    <tr>\n",
              "      <th>3</th>\n",
              "      <td>This place deserves one star and 90% has to do...</td>\n",
              "      <td>0</td>\n",
              "      <td>1</td>\n",
              "    </tr>\n",
              "    <tr>\n",
              "      <th>4</th>\n",
              "      <td>The lead man is charisma-free.</td>\n",
              "      <td>0</td>\n",
              "      <td>1</td>\n",
              "    </tr>\n",
              "  </tbody>\n",
              "</table>\n",
              "</div>"
            ],
            "text/plain": [
              "                                             Comment  Sentiment  Predictions\n",
              "0           It definitely was not as good as my S11.          1            0\n",
              "1  You get extra minutes so that you can carry ou...          1            0\n",
              "2                I'll be looking for a new earpiece.          0            1\n",
              "3  This place deserves one star and 90% has to do...          0            1\n",
              "4                   The lead man is charisma-free.            0            1"
            ]
          },
          "metadata": {
            "tags": []
          },
          "execution_count": 47
        }
      ]
    },
    {
      "cell_type": "code",
      "metadata": {
        "id": "oC5Rj5p7rTFj",
        "colab_type": "code",
        "colab": {}
      },
      "source": [
        ""
      ],
      "execution_count": 0,
      "outputs": []
    }
  ]
}